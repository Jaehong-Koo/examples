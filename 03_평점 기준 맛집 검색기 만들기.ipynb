{
 "cells": [
  {
   "cell_type": "code",
   "execution_count": 2,
   "id": "867714df",
   "metadata": {},
   "outputs": [],
   "source": [
    "import requests\n",
    "import pandas as pd\n",
    "import json\n",
    "import urllib\n",
    "from selenium import webdriver\n",
    "from selenium.webdriver.common.by import By\n",
    "from selenium.webdriver.common.keys import Keys\n",
    "\n",
    "from selenium.webdriver.common.by import By\n",
    "from selenium.webdriver.support.ui import WebDriverWait\n",
    "from selenium.webdriver.support import expected_conditions as EC\n",
    "\n",
    "import re\n",
    "import time\n",
    "import random\n",
    "import logging\n",
    "import sys, traceback"
   ]
  },
  {
   "cell_type": "code",
   "execution_count": 109,
   "id": "6347e950",
   "metadata": {},
   "outputs": [],
   "source": [
    "logging.basicConfig(level=logging.ERROR)"
   ]
  },
  {
   "cell_type": "code",
   "execution_count": 3,
   "id": "53c80829",
   "metadata": {},
   "outputs": [
    {
     "name": "stderr",
     "output_type": "stream",
     "text": [
      "/var/folders/vf/8b5vg3c94n1dx9pntt235qc80000gn/T/ipykernel_2321/3060802779.py:1: DeprecationWarning: executable_path has been deprecated, please pass in a Service object\n",
      "  driver = webdriver.Chrome('/Users/koojaehong/Jupyter_notebook/chromedriver') # 창 띄우기\n"
     ]
    }
   ],
   "source": [
    "driver = webdriver.Chrome('/Users/koojaehong/Jupyter_notebook/chromedriver') # 창 띄우기"
   ]
  },
  {
   "cell_type": "code",
   "execution_count": 4,
   "id": "fa9e74e2",
   "metadata": {},
   "outputs": [],
   "source": [
    "driver.get('https://map.naver.com/') # 네이버 지도 이동"
   ]
  },
  {
   "cell_type": "code",
   "execution_count": null,
   "id": "f903c537",
   "metadata": {},
   "outputs": [],
   "source": [
    "##### Naver 리뷰 값 가져오기\n",
    "#### 검색창 클릭 & 검색 값 입력\n",
    "#### 왼편 searchIframe 전환 (여러 iframe으로 갖춰져 있다)\n",
    "#### 1개 카드 클릭\n",
    "#### 전체 frame으로 복귀\n",
    "#### 오른편 entryIframe 전환\n",
    "#### 가게 이름 & 별점 가져오기 (별점이 기준 값 미만이면 가져오지 않는다)\n",
    "#### 전체 frame으로 복귀\n",
    "#### -> 반복 10개까지\n",
    "\n",
    "##### Kakao 검색\n",
    "#### ..."
   ]
  },
  {
   "cell_type": "code",
   "execution_count": 3,
   "id": "a9f3997f",
   "metadata": {},
   "outputs": [],
   "source": [
    "### Naver 맛집 검색, 검색어(지역+메뉴), 기준 별점, 찾을 범위\n",
    "### ! 속도는 본인 사양에 맞춰서 조정\n",
    "def naver_finder(place, menu, standard_star, count): # , count\n",
    "    search_term = place + \" \" + menu\n",
    "    \n",
    "    # 검색어 기준으로 네이버 지도 검색\n",
    "    driver.get('https://map.naver.com/v5/search/{}'.format(search_term))\n",
    "    \n",
    "    time.sleep(3)\n",
    "    try:\n",
    "        # 찾은 맛집을 담을 빈 데이터 프레임\n",
    "        naver_df = pd.DataFrame()\n",
    "        \n",
    "        # 1부터 찾을범위까지 반복하여 검색\n",
    "        for num in range(1, count+1):\n",
    "            # frame이 크게 3개로 나뉜다: 전체, searchIframe(왼편), entryIfrmae(우편), default_content(기본)\n",
    "            \n",
    "            # WebDriverWait 활용 searchIframe 대기 후 전환\n",
    "            WebDriverWait(driver, 3).until(EC.presence_of_element_located((By.ID, \"searchIframe\")))\n",
    "            searchIframe = driver.find_element_by_id(\"searchIframe\")\n",
    "            driver.switch_to.frame(searchIframe)\n",
    "            \n",
    "            # 가게 하나씩 클릭 가능한가? 가능하지 않다면 스크롤 다운 후 기다렸다가 클릭\n",
    "            try:\n",
    "                card_click = driver.find_element_by_xpath(\n",
    "                '//*[@id=\"_pcmap_list_scroll_container\"]/ul/li[{}]/div[1]/a'.format(num))\n",
    "                card_click.click()\n",
    "            except:\n",
    "                driver.find_element_by_tag_name('body').send_keys(Keys.PAGE_DOWN)\n",
    "            \n",
    "            WebDriverWait(driver, 2).until(EC.element_to_be_clickable(\n",
    "                    (By.XPATH,'//*[@id=\"_pcmap_list_scroll_container\"]/ul/li[{}]/div[1]/a'.format(num))))\n",
    "            card_click = driver.find_element_by_xpath(\n",
    "                '//*[@id=\"_pcmap_list_scroll_container\"]/ul/li[{}]/div[1]/a'.format(num))\n",
    "            driver.execute_script(\"arguments[0].click();\", card_click)\n",
    "#             try:\n",
    "#                 WebDriverWait(driver, 2).until(EC.element_to_be_clickable(\n",
    "#                     (By.XPATH,'//*[@id=\"_pcmap_list_scroll_container\"]/ul/li[{}]/div[1]/a'.format(num))))\n",
    "#                 card_click = driver.find_element_by_xpath(\n",
    "#                     '//*[@id=\"_pcmap_list_scroll_container\"]/ul/li[{}]/div[1]/a'.format(num))\n",
    "#                 card_click.click()\n",
    "#             except:\n",
    "#                 driver.find_element_by_tag_name('body').send_keys(Keys.PAGE_DOWN)\n",
    "#                 WebDriverWait(driver, 2).until(EC.element_to_be_clickable(\n",
    "#                     (By.XPATH,'//*[@id=\"_pcmap_list_scroll_container\"]/ul/li[{}]/div[1]/a'.format(num))))\n",
    "#                 card_click = driver.find_element_by_xpath(\n",
    "#                     '//*[@id=\"_pcmap_list_scroll_container\"]/ul/li[{}]/div[1]/a'.format(num))\n",
    "#                 driver.execute_script(\"arguments[0].click();\", card_click)\n",
    "            \n",
    "            # 기본 설정으로 되돌아오기\n",
    "            time.sleep(1)\n",
    "            driver.switch_to.default_content()\n",
    "            \n",
    "            # WebDriverWait 활용 entryIframe 대기 후 전환\n",
    "            WebDriverWait(driver, 2).until(EC.presence_of_element_located((By.ID, \"entryIframe\")))\n",
    "            entryIframe = driver.find_element_by_id(\"entryIframe\")\n",
    "            driver.switch_to.frame(entryIframe)\n",
    "            \n",
    "            # 우편의 가게 이름 변수로 지정 → restaurant_name\n",
    "            WebDriverWait(driver, 2).until(EC.presence_of_element_located((By.CLASS_NAME, '_3XamX')))\n",
    "            restaurant_name = driver.find_element_by_class_name('_3XamX').text\n",
    "            \n",
    "            # 해당 가게의 별점 변수로 지정 → review_star\n",
    "            # 단, 조건이 있음. 별점이 없는 경우, 0으로 계산한다.\n",
    "            # 별점을 구하기 위해서는 정규표현식으로 클렌징 진행, '\\n'과 '/5'를 없애주고 float 타입으로 변경\n",
    "            try:\n",
    "                WebDriverWait(driver, 3).until(EC.presence_of_element_located((By.CLASS_NAME, '_1Y6hi._1A8_M')))\n",
    "                review_star = driver.find_element_by_class_name('_1Y6hi._1A8_M').text\n",
    "                review_star = re.sub('별점\\n|/5', '', review_star)\n",
    "                review_star = float(review_star)\n",
    "            except:\n",
    "                review_star = 0\n",
    "                pass\n",
    "            \n",
    "            # 다음 반복을 위해 기본 설정으로 되돌아오기\n",
    "            time.sleep(1)\n",
    "            driver.switch_to.default_content()\n",
    "            \n",
    "            # 별점이 기준 별점보다 높은 경우에만 진행, 아닌 경우 그냥 다음 반복을 위해 pass\n",
    "            # 가게명과 별점을 지정하여 데이터 프레임화\n",
    "            # 전체 데이터 프레임과 해당 반복 구간의 데이터 프레임을 합친다(계속 반복하여 합치면 전체 데이터 프레임에 모두 들어감)\n",
    "            if review_star > standard_star:\n",
    "                df = pd.DataFrame({'가게명': [restaurant_name], '네이버 별점': [review_star]})\n",
    "                naver_df = pd.concat([naver_df, df])\n",
    "            else:\n",
    "                pass\n",
    "            \n",
    "        # 중복값 제거\n",
    "        naver_df.drop_duplicates()\n",
    "    \n",
    "    except:\n",
    "        pass\n",
    "    # 모든 예외의 에러 메시지를 출력할 때는 Exception을 사용\n",
    "#     except Exception as e:\n",
    "#         print('예외가 발생했습니다.', e)\n",
    "#         logging.error(traceback.format_exc())\n",
    "    \n",
    "    return naver_df"
   ]
  },
  {
   "cell_type": "code",
   "execution_count": 4,
   "id": "c0aea3d0",
   "metadata": {},
   "outputs": [],
   "source": [
    "def kakao_finder(place, name):\n",
    "    kakao_search_term = place + \" \" + name\n",
    "    \n",
    "    try:\n",
    "        WebDriverWait(driver, 2).until(EC.presence_of_element_located((By.ID, \"search.keyword.query\")))\n",
    "        driver.find_element_by_id('search.keyword.query').clear()\n",
    "        driver.find_element_by_id('search.keyword.query').send_keys(kakao_search_term)\n",
    "        driver.find_element_by_id('search.keyword.query').send_keys(Keys.RETURN)\n",
    "        \n",
    "        time.sleep(2)\n",
    "        kakao_star = driver.find_element_by_xpath('//*[@id=\"info.search.place.list\"]/li[1]/div[4]/span[1]/em').text\n",
    "        kakao_star = float(kakao_star)\n",
    "    \n",
    "    except:\n",
    "        kakao_star = '해당 없음'\n",
    "        pass\n",
    "\n",
    "#         except Exception as e:\n",
    "#             kakao_star = '해당 없음'\n",
    "#             print('예외가 발생했습니다.', e)\n",
    "#             logging.error(traceback.format_exc())\n",
    "    \n",
    "    return kakao_star"
   ]
  },
  {
   "cell_type": "code",
   "execution_count": 13,
   "id": "d54973e2",
   "metadata": {},
   "outputs": [],
   "source": [
    "def taste_finder(place, menu, standard_star, count):\n",
    "    \n",
    "    # 네이버 플레이스 이동\n",
    "    driver.get('https://map.naver.com/')\n",
    "    \n",
    "    # 네이버 검색 결과 저장\n",
    "    taste_df = naver_finder(place, menu, standard_star, count)\n",
    "        \n",
    "    # 카카오맵 이동\n",
    "    driver.get('https://map.kakao.com/')\n",
    "    \n",
    "    taste_df['카카오 별점'] = 0\n",
    "    # 카카오 별점 반복\n",
    "    try:\n",
    "        for num in range(0, len(taste_df)):\n",
    "            pass_place = taste_df['가게명'].iloc[num]\n",
    "            kakao_star = kakao_finder(place, pass_place)\n",
    "            taste_df['카카오 별점'].iloc[num] = kakao_star\n",
    "    \n",
    "        if len(taste_df) < 1:\n",
    "            taste_df = \"검색 결과, 충족하는 값이 없습니다.\"\n",
    "        else:\n",
    "            pass\n",
    "    \n",
    "    except:\n",
    "        pass\n",
    "    \n",
    "    return taste_df"
   ]
  },
  {
   "cell_type": "code",
   "execution_count": 16,
   "id": "e1b8ced0",
   "metadata": {
    "scrolled": true
   },
   "outputs": [
    {
     "name": "stderr",
     "output_type": "stream",
     "text": [
      "/Users/koojaehong/opt/anaconda3/lib/python3.8/site-packages/pandas/core/indexing.py:1637: SettingWithCopyWarning: \n",
      "A value is trying to be set on a copy of a slice from a DataFrame\n",
      "\n",
      "See the caveats in the documentation: https://pandas.pydata.org/pandas-docs/stable/user_guide/indexing.html#returning-a-view-versus-a-copy\n",
      "  self._setitem_single_block(indexer, value, name)\n"
     ]
    }
   ],
   "source": [
    "a = taste_finder('소고기', '석촌역', 4.5, 15)"
   ]
  },
  {
   "cell_type": "code",
   "execution_count": 17,
   "id": "e6f3e887",
   "metadata": {
    "scrolled": true
   },
   "outputs": [
    {
     "data": {
      "text/html": [
       "<div>\n",
       "<style scoped>\n",
       "    .dataframe tbody tr th:only-of-type {\n",
       "        vertical-align: middle;\n",
       "    }\n",
       "\n",
       "    .dataframe tbody tr th {\n",
       "        vertical-align: top;\n",
       "    }\n",
       "\n",
       "    .dataframe thead th {\n",
       "        text-align: right;\n",
       "    }\n",
       "</style>\n",
       "<table border=\"1\" class=\"dataframe\">\n",
       "  <thead>\n",
       "    <tr style=\"text-align: right;\">\n",
       "      <th></th>\n",
       "      <th>가게명</th>\n",
       "      <th>네이버 별점</th>\n",
       "      <th>카카오 별점</th>\n",
       "    </tr>\n",
       "  </thead>\n",
       "  <tbody>\n",
       "    <tr>\n",
       "      <th>0</th>\n",
       "      <td>우마담 호수</td>\n",
       "      <td>4.79</td>\n",
       "      <td>3.3</td>\n",
       "    </tr>\n",
       "    <tr>\n",
       "      <th>0</th>\n",
       "      <td>패대기 서울석촌점</td>\n",
       "      <td>4.83</td>\n",
       "      <td>해당 없음</td>\n",
       "    </tr>\n",
       "  </tbody>\n",
       "</table>\n",
       "</div>"
      ],
      "text/plain": [
       "         가게명  네이버 별점 카카오 별점\n",
       "0     우마담 호수    4.79    3.3\n",
       "0  패대기 서울석촌점    4.83  해당 없음"
      ]
     },
     "execution_count": 17,
     "metadata": {},
     "output_type": "execute_result"
    }
   ],
   "source": [
    "a"
   ]
  }
 ],
 "metadata": {
  "kernelspec": {
   "display_name": "Python 3 (ipykernel)",
   "language": "python",
   "name": "python3"
  },
  "language_info": {
   "codemirror_mode": {
    "name": "ipython",
    "version": 3
   },
   "file_extension": ".py",
   "mimetype": "text/x-python",
   "name": "python",
   "nbconvert_exporter": "python",
   "pygments_lexer": "ipython3",
   "version": "3.9.12"
  }
 },
 "nbformat": 4,
 "nbformat_minor": 5
}
