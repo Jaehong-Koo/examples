{
 "cells": [
  {
   "cell_type": "code",
   "execution_count": 2,
   "metadata": {},
   "outputs": [],
   "source": [
    "## datetime 설치 필요, pip install datetime\n",
    "## 자동화 tool인 selenium 라이브러리와 파일 설치 필요\n",
    "## 구체적인 가이드는 구글에 '파이썬 셀레니움 설치' 검색 참조\n",
    "from selenium import webdriver\n",
    "from selenium.webdriver.common.by import By\n",
    "from selenium.webdriver.common.keys import Keys\n",
    "import time\n",
    "from datetime import datetime, date, timedelta\n",
    "import pandas as pd\n",
    "import re"
   ]
  },
  {
   "cell_type": "code",
   "execution_count": 3,
   "metadata": {},
   "outputs": [
    {
     "name": "stderr",
     "output_type": "stream",
     "text": [
      "/var/folders/vf/8b5vg3c94n1dx9pntt235qc80000gn/T/ipykernel_949/3060802779.py:1: DeprecationWarning: executable_path has been deprecated, please pass in a Service object\n",
      "  driver = webdriver.Chrome('/Users/koojaehong/Jupyter_notebook/chromedriver') # 창 띄우기\n"
     ]
    }
   ],
   "source": [
    "driver = webdriver.Chrome('/Users/koojaehong/Jupyter_notebook/chromedriver') # 창 띄우기"
   ]
  },
  {
   "cell_type": "code",
   "execution_count": 4,
   "metadata": {},
   "outputs": [],
   "source": [
    "driver.get('https://ceo.baemin.com/web/login') # 배달의 민족 사장님 로그인 페이지 이동"
   ]
  },
  {
   "cell_type": "code",
   "execution_count": null,
   "metadata": {},
   "outputs": [],
   "source": [
    "# 해당 아이디, 비밀번호 직접 입력 후 로그인 실행\n",
    "# 오른쪽 중단에 위치한 리뷰 관리 클릭\n",
    "# 새로 생긴 탭(리뷰 페이지)의 링크 복사 후 끄기"
   ]
  },
  {
   "cell_type": "code",
   "execution_count": 6,
   "metadata": {},
   "outputs": [],
   "source": [
    "driver.get('https://ceo.baemin.com/self-service/shops/10877238/reviews') # 복사한 링크 붙여넣기, 실행"
   ]
  },
  {
   "cell_type": "code",
   "execution_count": null,
   "metadata": {},
   "outputs": [],
   "source": [
    "# 새로 생긴 팝업이 있다면 꺼주기"
   ]
  },
  {
   "cell_type": "code",
   "execution_count": 21,
   "metadata": {},
   "outputs": [],
   "source": [
    "def scroll_down():\n",
    "    driver.find_element(By.TAG_NAME, 'body').send_keys(Keys.PAGE_DOWN) # 스크롤 내리기"
   ]
  },
  {
   "cell_type": "code",
   "execution_count": 24,
   "metadata": {},
   "outputs": [],
   "source": [
    "scroll_down()"
   ]
  },
  {
   "cell_type": "code",
   "execution_count": null,
   "metadata": {},
   "outputs": [],
   "source": [
    "# 경우의 수를 작성해야 함\n",
    "# 구성 : 리뷰, 사진, 주문메뉴, 메뉴란, 메뉴에 관한 리뷰란, 배달리뷰, 배달리뷰란, "
   ]
  },
  {
   "cell_type": "code",
   "execution_count": null,
   "metadata": {},
   "outputs": [],
   "source": [
    "1. 사장님 답변은 제거한다\n",
    "2. 메뉴사진 문구 제거한다\n",
    "3. 주문메뉴 앞의 글자는 리뷰로 따로 넣는다, '주문메뉴를 기점으로'\n",
    "4. str로 제거 가능한 부분은 모두 제거한다\n",
    "5. 리스트에서 제거할 부분들은 remove한다"
   ]
  },
  {
   "cell_type": "code",
   "execution_count": null,
   "metadata": {},
   "outputs": [],
   "source": [
    "##아이디\n",
    "//*[@id=\"review-page\"]/div[4]/div/div[1]/div[1]/div[1]/p\n",
    "//*[@id=\"review-page\"]/div[4]/div/div[2]/div[1]/div[1]/p\n",
    "//*[@id=\"review-page\"]/div[4]/div/div[5]/div[1]/div[1]/p\n",
    "//*[@id=\"review-page\"]/div[4]/div/div[20]/div[1]/div[1]/p\n",
    "\n",
    "##별점\n",
    "//*[@id=\"review-page\"]/div[4]/div/div[1]/div[1]/div[1]/div\n",
    "//*[@id=\"review-page\"]/div[4]/div/div[2]/div[1]/div[1]/div\n",
    "//*[@id=\"review-page\"]/div[4]/div/div[10]/div[1]/div[1]/div\n",
    "//*[@id=\"review-page\"]/div[4]/div/div[17]/div[1]/div[1]/div\n",
    "\n",
    "##날짜\n",
    "//*[@id=\"review-page\"]/div[4]/div/div[1]/div[1]/div[1]/span\n",
    "//*[@id=\"review-page\"]/div[4]/div/div[2]/div[1]/div[1]/span\n",
    "//*[@id=\"review-page\"]/div[4]/div/div[7]/div[1]/div[1]/span\n",
    "//*[@id=\"review-page\"]/div[4]/div/div[17]/div[1]/div[1]/span\n",
    "\n",
    "## 오른쪽\n",
    "//*[@id=\"review-page\"]/div[4]/div/div[1]/div[2]\n",
    "//*[@id=\"review-page\"]/div[4]/div/div[2]/div[2]\n",
    "//*[@id=\"review-page\"]/div[4]/div/div[5]/div[2]\n",
    "//*[@id=\"review-page\"]/div[4]/div/div[20]/div[2]\n",
    "\n",
    "##리뷰 내용\n",
    "# 맨 위에 있는 경우\n",
    "//*[@id=\"review-page\"]/div[4]/div/div[1]/div[2]/p\n",
    "//*[@id=\"review-page\"]/div[4]/div/div[4]/div[2]/p\n",
    "//*[@id=\"review-page\"]/div[4]/div/div[5]/div[2]/p\n",
    "//*[@id=\"review-page\"]/div[4]/div/div[93]/div[2]/p\n",
    "...\n",
    "\n",
    "# 사장님에게만 보이는 리뷰일 경우\n",
    "//*[@id=\"review-page\"]/div[4]/div/div[66]/div[2]/p[2]\n",
    "//*[@id=\"review-page\"]/div[4]/div/div[67]/div[2]/p[2]\n",
    "\n",
    "##주문 메뉴\n",
    "#사진 있는 경우\n",
    "//*[@id=\"review-page\"]/div[4]/div/div[104]/div[2]/div[2]/div[1]/div[2]/ul[1]/li/div/div\n",
    "\n",
    "\n",
    "#주문 메뉴의 리뷰가 있어 한 줄 아래 있는 경우\n",
    "//*[@id=\"review-page\"]/div[4]/div/div[104]/div[2]/div[2]/div[1]/div[2]/ul[2]/li/div/div"
   ]
  },
  {
   "cell_type": "code",
   "execution_count": 25,
   "metadata": {},
   "outputs": [],
   "source": [
    "def data_name(card_num):\n",
    "    name = driver.find_element(By.XPATH, '//*[@id=\"review-page\"]/div[4]/div/div['+str(card_num)+']/div[1]/div[1]/p').text\n",
    "    \n",
    "    return name"
   ]
  },
  {
   "cell_type": "code",
   "execution_count": 26,
   "metadata": {},
   "outputs": [
    {
     "data": {
      "text/plain": [
       "'good****'"
      ]
     },
     "execution_count": 26,
     "metadata": {},
     "output_type": "execute_result"
    }
   ],
   "source": [
    "data_name(8) # 8번째 리뷰의 아이디 값 가져오기"
   ]
  },
  {
   "cell_type": "code",
   "execution_count": 27,
   "metadata": {},
   "outputs": [],
   "source": [
    "def data_star(card_num):\n",
    "    star = driver.find_element(By.XPATH, '//*[@id=\"review-page\"]/div[4]/div/div['+str(card_num)+']/div[1]/div[1]/div').text\n",
    "    \n",
    "    return star"
   ]
  },
  {
   "cell_type": "code",
   "execution_count": 28,
   "metadata": {},
   "outputs": [
    {
     "data": {
      "text/plain": [
       "'5'"
      ]
     },
     "execution_count": 28,
     "metadata": {},
     "output_type": "execute_result"
    }
   ],
   "source": [
    "data_star(8) # 8번째 리뷰의 별점 개수 값 가져오기"
   ]
  },
  {
   "cell_type": "code",
   "execution_count": 29,
   "metadata": {},
   "outputs": [],
   "source": [
    "def data_date(card_num):\n",
    "    order_date = driver.find_element(By.XPATH, '//*[@id=\"review-page\"]/div[4]/div/div['+str(card_num)+']/div[1]/div[1]/span').text\n",
    "    \n",
    "    return order_date"
   ]
  },
  {
   "cell_type": "code",
   "execution_count": 30,
   "metadata": {},
   "outputs": [
    {
     "data": {
      "text/plain": [
       "'이번 달'"
      ]
     },
     "execution_count": 30,
     "metadata": {},
     "output_type": "execute_result"
    }
   ],
   "source": [
    "data_date(8) # 8번째 리뷰의 날짜 값 가져오기"
   ]
  },
  {
   "cell_type": "code",
   "execution_count": 9,
   "metadata": {},
   "outputs": [
    {
     "data": {
      "text/plain": [
       "datetime.date(2021, 9, 14)"
      ]
     },
     "execution_count": 9,
     "metadata": {},
     "output_type": "execute_result"
    }
   ],
   "source": [
    "date.today() # 오늘의 날짜 값 나타내기"
   ]
  },
  {
   "cell_type": "code",
   "execution_count": 10,
   "metadata": {
    "scrolled": true
   },
   "outputs": [
    {
     "data": {
      "text/plain": [
       "datetime.date"
      ]
     },
     "execution_count": 10,
     "metadata": {},
     "output_type": "execute_result"
    }
   ],
   "source": [
    "type(date.today()) # 유형 찾기"
   ]
  },
  {
   "cell_type": "code",
   "execution_count": 11,
   "metadata": {},
   "outputs": [
    {
     "data": {
      "text/plain": [
       "'2021-09-14'"
      ]
     },
     "execution_count": 11,
     "metadata": {},
     "output_type": "execute_result"
    }
   ],
   "source": [
    "str(date.today()) # 날짜 값 → 문자열 변경"
   ]
  },
  {
   "cell_type": "code",
   "execution_count": 12,
   "metadata": {},
   "outputs": [],
   "source": [
    "def data_date(card_num):\n",
    "    order_date = driver.find_element(By.XPATH, '//*[@id=\"review-page\"]/div[4]/div/div['+str(card_num)+']/div[1]/div[1]/span').text\n",
    "    \n",
    "    if order_date == \"오늘\":\n",
    "        order_date = str(date.today())\n",
    "        \n",
    "    elif order_date == \"어제\":\n",
    "        order_date = str(date.today()-timedelta(days=1))\n",
    "    \n",
    "    elif order_date == \"그제\":\n",
    "        order_date = str(date.today()-timedelta(days=2))\n",
    "    \n",
    "    elif order_date == \"지난 주\":\n",
    "        order_date = str(date.today()-timedelta(weeks=1))\n",
    "    \n",
    "    elif order_date == \"지난 달\":\n",
    "        order_date = str(date.today()-timedelta(weeks=4))\n",
    "    \n",
    "    elif order_date in ['2개월 전', '3개월 전', '4개월 전', '5개월 전', '6개월 전']:\n",
    "        for month in range(2, 7):\n",
    "            if order_date == str(month)+\"개월 전\":\n",
    "                order_date = str(date.today()-timedelta(weeks=month*4))\n",
    "            else:\n",
    "                pass\n",
    "    \n",
    "    return order_date"
   ]
  },
  {
   "cell_type": "code",
   "execution_count": 16,
   "metadata": {},
   "outputs": [
    {
     "name": "stdout",
     "output_type": "stream",
     "text": [
      "2\n",
      "3\n",
      "4\n"
     ]
    }
   ],
   "source": [
    "for x in range(2, 5):\n",
    "    print(x)"
   ]
  },
  {
   "cell_type": "code",
   "execution_count": null,
   "metadata": {},
   "outputs": [],
   "source": [
    "elif order_date == \"2개월 전\":\n",
    "        order_date = str(date.today()-timedelta(weeks=8))\n",
    "        \n",
    "elif order_date == \"3개월 전\":\n",
    "        order_date = str(date.today()-timedelta(weeks=12))\n",
    "        \n",
    "elif order_date == \"4개월 전\":\n",
    "        order_date = str(date.today()-timedelta(weeks=16))\n",
    "        \n",
    "elif order_date == \"5개월 전\":\n",
    "        order_date = str(date.today()-timedelta(weeks=20))\n",
    "        \n",
    "elif order_date == \"6개월 전\":\n",
    "        order_date = str(date.today()-timedelta(weeks=24))"
   ]
  },
  {
   "cell_type": "code",
   "execution_count": 13,
   "metadata": {},
   "outputs": [
    {
     "data": {
      "text/plain": [
       "'2021-09-14'"
      ]
     },
     "execution_count": 13,
     "metadata": {},
     "output_type": "execute_result"
    }
   ],
   "source": [
    "data_date(10)"
   ]
  },
  {
   "cell_type": "code",
   "execution_count": 31,
   "metadata": {},
   "outputs": [],
   "source": [
    "def right_paragraph(card_num):\n",
    "    sentence= driver.find_element(By.XPATH, '//*[@id=\"review-page\"]/div[4]/div/div['+str(card_num)+']/div[2]').text\n",
    "    \n",
    "    return sentence"
   ]
  },
  {
   "cell_type": "code",
   "execution_count": 32,
   "metadata": {},
   "outputs": [
    {
     "data": {
      "text/plain": [
       "'주문메뉴\\n짜장면\\n사장님 댓글 등록하기'"
      ]
     },
     "execution_count": 32,
     "metadata": {},
     "output_type": "execute_result"
    }
   ],
   "source": [
    "right_paragraph(3)"
   ]
  },
  {
   "cell_type": "code",
   "execution_count": 27,
   "metadata": {},
   "outputs": [],
   "source": [
    "example_sentence = right_paragraph(3)"
   ]
  },
  {
   "cell_type": "code",
   "execution_count": 28,
   "metadata": {},
   "outputs": [],
   "source": [
    "try:\n",
    "    example_sentence = re.sub('\\n메뉴사진|메뉴사진', '', example_sentence)\n",
    "except:\n",
    "    print(\"없습니다\")"
   ]
  },
  {
   "cell_type": "code",
   "execution_count": 33,
   "metadata": {},
   "outputs": [
    {
     "data": {
      "text/plain": [
       "'짬뽕이 싱거웠지만 배달빠르고 탕수육이 맛있었어요!\\n주문메뉴\\n7. 등심 탕수육+짜장1+짬뽕1\\n추천\\n배달리뷰\\n좋아요\\n사장님 댓글 등록하기'"
      ]
     },
     "execution_count": 33,
     "metadata": {},
     "output_type": "execute_result"
    }
   ],
   "source": [
    "example_sentence"
   ]
  },
  {
   "cell_type": "code",
   "execution_count": 30,
   "metadata": {},
   "outputs": [
    {
     "data": {
      "text/plain": [
       "28"
      ]
     },
     "execution_count": 30,
     "metadata": {},
     "output_type": "execute_result"
    }
   ],
   "source": [
    "example_sentence.find('주문메뉴')"
   ]
  },
  {
   "cell_type": "code",
   "execution_count": 31,
   "metadata": {},
   "outputs": [
    {
     "data": {
      "text/plain": [
       "'짬뽕이 싱거웠지만 배달빠르고 탕수육이 맛있었어요!'"
      ]
     },
     "execution_count": 31,
     "metadata": {},
     "output_type": "execute_result"
    }
   ],
   "source": [
    "example_sentence[:27]"
   ]
  },
  {
   "cell_type": "code",
   "execution_count": 32,
   "metadata": {},
   "outputs": [
    {
     "data": {
      "text/plain": [
       "'깐풍기가 생가보다 양이 넉넉해서 좋았습니다.\\n쟁반짜장은 뭐 말하기 입아프고요.\\n오늘도 맛있게잘먹었습니다.\\n아..조금 아쉬웠던게 볶음밥이 살짝 간이 심심했어요^^\\n메뉴사진\\n주문메뉴\\n깐풍기\\n추천\\n쟁반짜장(순한맛)\\n추천\\n볶음밥\\n추천\\n배달리뷰\\n좋아요\\n사장님 댓글 등록하기'"
      ]
     },
     "execution_count": 32,
     "metadata": {},
     "output_type": "execute_result"
    }
   ],
   "source": [
    "right_paragraph(1)"
   ]
  },
  {
   "cell_type": "code",
   "execution_count": 37,
   "metadata": {},
   "outputs": [],
   "source": [
    "example_sentence_2 = right_paragraph(1) # example_sentence_2 변수로 지정\n",
    "try: \n",
    "    example_sentence_2 = re.sub('\\n메뉴사진|메뉴사진', '', example_sentence_2)\n",
    "except:\n",
    "    pass # 예외인 경우에는 pass"
   ]
  },
  {
   "cell_type": "code",
   "execution_count": 38,
   "metadata": {},
   "outputs": [
    {
     "data": {
      "text/plain": [
       "'깐풍기가 생가보다 양이 넉넉해서 좋았습니다.\\n쟁반짜장은 뭐 말하기 입아프고요.\\n오늘도 맛있게잘먹었습니다.\\n아..조금 아쉬웠던게 볶음밥이 살짝 간이 심심했어요^^\\n주문메뉴\\n깐풍기\\n추천\\n쟁반짜장(순한맛)\\n추천\\n볶음밥\\n추천\\n배달리뷰\\n좋아요\\n사장님 댓글 등록하기'"
      ]
     },
     "execution_count": 38,
     "metadata": {},
     "output_type": "execute_result"
    }
   ],
   "source": [
    "example_sentence_2"
   ]
  },
  {
   "cell_type": "code",
   "execution_count": 30,
   "metadata": {},
   "outputs": [],
   "source": [
    "def review_paragraph(card_num):\n",
    "    sentence = right_paragraph(card_num) # 오른쪽 데이터 모두 추출해서 sentence 변수로 지정\n",
    "    \n",
    "    try:\n",
    "        sentence = re.sub('\\n메뉴사진|메뉴사진', '', sentence) # '\\n메뉴사진' 또는 '메뉴사진' 단어가 있는 경우 공백으로 변환\n",
    "        menu_location = sentence.find('주문메뉴') # 주문메뉴의 위치\n",
    "        \n",
    "        if menu_location==0: # '주문메뉴'가 없는 경우에는\n",
    "            sentence = '해당내용 없음' # 리뷰내용 = '해당내용 없음'\n",
    "        else:\n",
    "            sentence = sentence[:(menu_location)] # 0번째 값 ~ 주문메뉴 위치 전까지 추출\n",
    "            sentence = re.sub('사장님에게만 보이는 리뷰입니다.|\\n', '', sentence) # 사장님에게만 보이는 리뷰입니다 또는 \\n이 있을 경우 공백처리\n",
    "        \n",
    "    except:\n",
    "        pass # 위에 오류가 있는 경우, pass\n",
    "    \n",
    "    return sentence"
   ]
  },
  {
   "cell_type": "code",
   "execution_count": 22,
   "metadata": {
    "scrolled": true
   },
   "outputs": [
    {
     "data": {
      "text/plain": [
       "90"
      ]
     },
     "execution_count": 22,
     "metadata": {},
     "output_type": "execute_result"
    }
   ],
   "source": [
    "review_paragraph(10).find('주문메뉴')"
   ]
  },
  {
   "cell_type": "code",
   "execution_count": 26,
   "metadata": {},
   "outputs": [
    {
     "data": {
      "text/plain": [
       "'깐풍기가 생가보다 양이 넉넉해서 좋았습니다.\\n쟁반짜장은 뭐 말하기 입아프고요.\\n오늘도 맛있게잘먹었습니다.\\n아..조금 아쉬웠던게 볶음밥이 살짝 간이 심심했어요^^\\n'"
      ]
     },
     "execution_count": 26,
     "metadata": {},
     "output_type": "execute_result"
    }
   ],
   "source": [
    "review_paragraph(10)[:90] # 0번째 값 ~ 89번째 값"
   ]
  },
  {
   "cell_type": "code",
   "execution_count": 31,
   "metadata": {},
   "outputs": [
    {
     "data": {
      "text/plain": [
       "'깐풍기가 생가보다 양이 넉넉해서 좋았습니다.쟁반짜장은 뭐 말하기 입아프고요.오늘도 맛있게잘먹었습니다.아..조금 아쉬웠던게 볶음밥이 살짝 간이 심심했어요^^'"
      ]
     },
     "execution_count": 31,
     "metadata": {},
     "output_type": "execute_result"
    }
   ],
   "source": [
    "review_paragraph(10)"
   ]
  },
  {
   "cell_type": "code",
   "execution_count": null,
   "metadata": {},
   "outputs": [],
   "source": [
    "//*[@id=\"review-page\"]/div[4]/div/div[182]/div[2]"
   ]
  },
  {
   "cell_type": "code",
   "execution_count": 34,
   "metadata": {},
   "outputs": [
    {
     "data": {
      "text/plain": [
       "'요리는 맛있는데 짜샤이가 상했습니다...\\n통화가 안되 부득이 리뷰남깁니다\\n메뉴사진\\n주문메뉴\\n고추잡채&꽃빵\\n추천\\n칠리중새우\\n추천\\n배달리뷰\\n좋아요\\n사장님3개월 전\\n로운파님, 어제 마감하고 퇴근 후에 전화를 하셔서 응대를 못했습니다. 답변이 늦어 죄송합니다. 저희가 짜사이를 무칠때 대파를 넣는데 이번에 파를 좀 많이넣어서 그런지 대파에서 나오는 끈적한 점액질이 많아서 상한거라고 생각하신거 아니가 생각이듭니다... 식사에 불편을 드려 정말 죄송합니다. 주의하고 개선하도록 노력하겠습니다.\\n삭제\\n등록된 지 30일이 지난 리뷰는 사장님 댓글을 등록할 수 없어요.'"
      ]
     },
     "execution_count": 34,
     "metadata": {},
     "output_type": "execute_result"
    }
   ],
   "source": [
    "delete_reply(182)"
   ]
  },
  {
   "cell_type": "code",
   "execution_count": 36,
   "metadata": {},
   "outputs": [
    {
     "data": {
      "text/plain": [
       "79"
      ]
     },
     "execution_count": 36,
     "metadata": {},
     "output_type": "execute_result"
    }
   ],
   "source": [
    "delete_reply(182).find('\\n사장님') # \\n사장님의 위치 값"
   ]
  },
  {
   "cell_type": "code",
   "execution_count": null,
   "metadata": {},
   "outputs": [],
   "source": [
    "for owner_location in re.finditer('\\n사장님', sentence):\n",
    "    last_location = owner_location.end()"
   ]
  },
  {
   "cell_type": "code",
   "execution_count": 57,
   "metadata": {},
   "outputs": [],
   "source": [
    "example_sentence = '저는 비전공자입니다. 저는 비개발자입니다.'"
   ]
  },
  {
   "cell_type": "code",
   "execution_count": 94,
   "metadata": {},
   "outputs": [
    {
     "data": {
      "text/plain": [
       "15"
      ]
     },
     "execution_count": 94,
     "metadata": {},
     "output_type": "execute_result"
    }
   ],
   "source": [
    "example_sentence.rfind('비') # 3, 15번째 값 중 마지막 위치값 반환"
   ]
  },
  {
   "cell_type": "code",
   "execution_count": 95,
   "metadata": {},
   "outputs": [
    {
     "data": {
      "text/plain": [
       "'비'"
      ]
     },
     "execution_count": 95,
     "metadata": {},
     "output_type": "execute_result"
    }
   ],
   "source": [
    "example_sentence[15]"
   ]
  },
  {
   "cell_type": "code",
   "execution_count": 100,
   "metadata": {},
   "outputs": [],
   "source": [
    "def delete_reply(card_num):\n",
    "    sentence = right_paragraph(card_num)\n",
    "    \n",
    "    try:\n",
    "        owner_location = sentence.rfind('\\n사장님') # '\\n사장님'의 마지막 위치\n",
    "        \n",
    "        if sentence.find('\\n주문메뉴') < owner_location: # '주문메뉴' 키워드보다 뒤에 있는 경우\n",
    "            sentence = sentence[:(owner_location)] # '\\n사장님' 위치 전까지 추출\n",
    "        else:\n",
    "            pass\n",
    "    \n",
    "    except:\n",
    "        pass\n",
    "    \n",
    "    return sentence"
   ]
  },
  {
   "cell_type": "code",
   "execution_count": 105,
   "metadata": {},
   "outputs": [
    {
     "data": {
      "text/plain": [
       "45"
      ]
     },
     "execution_count": 105,
     "metadata": {},
     "output_type": "execute_result"
    }
   ],
   "source": [
    "delete_reply(182).find('\\n주문메뉴')"
   ]
  },
  {
   "cell_type": "code",
   "execution_count": 107,
   "metadata": {},
   "outputs": [
    {
     "data": {
      "text/plain": [
       "'\\n고추잡채&꽃빵\\n추천\\n칠리중새우\\n추천\\n배달리뷰\\n좋아요'"
      ]
     },
     "execution_count": 107,
     "metadata": {},
     "output_type": "execute_result"
    }
   ],
   "source": [
    "delete_reply(182)[50:]"
   ]
  },
  {
   "cell_type": "code",
   "execution_count": 126,
   "metadata": {},
   "outputs": [],
   "source": [
    "def menu_paragraph(card_num):\n",
    "    try:\n",
    "        sentence = delete_reply(card_num) # 사장님 답변이 있는 경우 제거\n",
    "    except:\n",
    "        pass\n",
    "    \n",
    "    menu_location = sentence.find('\\n주문메뉴') # '\\n주문메뉴'의 위치값 지정\n",
    "    sentence = sentence[(menu_location+5):] # '\\n주문메뉴' 기준 5번째 뒤의 값부터 추출\n",
    "    \n",
    "    sentence = re.sub('\\n등록된 지 30일이 지난 리뷰는 사장님 댓글을 등록할 수 없어요.|\\n메뉴사진|\\n주문메뉴|\\n배달리뷰|\\n좋아요|\\n삭제|\\n추천|\\n사장님 댓글 등록하기', '', sentence)\n",
    "    \n",
    "    menu_list = sentence.split('\\n') # '\\n' 기준으로 리스트 형태로 분리\n",
    "    menu_list.remove('') # 원소 중 공백 값은 제거\n",
    "    \n",
    "    menu_df = pd.DataFrame(data=menu_list, columns=['주문메뉴']) # 컬럼= 주문메뉴, 데이터=menu_list\n",
    "    \n",
    "    return menu_df"
   ]
  },
  {
   "cell_type": "code",
   "execution_count": 116,
   "metadata": {},
   "outputs": [
    {
     "data": {
      "text/plain": [
       "'\\n깐풍기\\n쟁반짜장(순한맛)\\n볶음밥'"
      ]
     },
     "execution_count": 116,
     "metadata": {},
     "output_type": "execute_result"
    }
   ],
   "source": [
    "menu_paragraph(10)"
   ]
  },
  {
   "cell_type": "code",
   "execution_count": 118,
   "metadata": {},
   "outputs": [],
   "source": [
    "example_sentence = menu_paragraph(10).split('\\n')"
   ]
  },
  {
   "cell_type": "code",
   "execution_count": 119,
   "metadata": {},
   "outputs": [],
   "source": [
    "example_sentence.remove('')"
   ]
  },
  {
   "cell_type": "code",
   "execution_count": 120,
   "metadata": {},
   "outputs": [
    {
     "data": {
      "text/plain": [
       "['깐풍기', '쟁반짜장(순한맛)', '볶음밥']"
      ]
     },
     "execution_count": 120,
     "metadata": {},
     "output_type": "execute_result"
    }
   ],
   "source": [
    "example_sentence"
   ]
  },
  {
   "cell_type": "code",
   "execution_count": 127,
   "metadata": {},
   "outputs": [
    {
     "data": {
      "text/html": [
       "<div>\n",
       "<style scoped>\n",
       "    .dataframe tbody tr th:only-of-type {\n",
       "        vertical-align: middle;\n",
       "    }\n",
       "\n",
       "    .dataframe tbody tr th {\n",
       "        vertical-align: top;\n",
       "    }\n",
       "\n",
       "    .dataframe thead th {\n",
       "        text-align: right;\n",
       "    }\n",
       "</style>\n",
       "<table border=\"1\" class=\"dataframe\">\n",
       "  <thead>\n",
       "    <tr style=\"text-align: right;\">\n",
       "      <th></th>\n",
       "      <th>주문메뉴</th>\n",
       "    </tr>\n",
       "  </thead>\n",
       "  <tbody>\n",
       "    <tr>\n",
       "      <th>0</th>\n",
       "      <td>깐풍기</td>\n",
       "    </tr>\n",
       "    <tr>\n",
       "      <th>1</th>\n",
       "      <td>쟁반짜장(순한맛)</td>\n",
       "    </tr>\n",
       "    <tr>\n",
       "      <th>2</th>\n",
       "      <td>볶음밥</td>\n",
       "    </tr>\n",
       "  </tbody>\n",
       "</table>\n",
       "</div>"
      ],
      "text/plain": [
       "        주문메뉴\n",
       "0        깐풍기\n",
       "1  쟁반짜장(순한맛)\n",
       "2        볶음밥"
      ]
     },
     "execution_count": 127,
     "metadata": {},
     "output_type": "execute_result"
    }
   ],
   "source": [
    "menu_paragraph(10)"
   ]
  },
  {
   "cell_type": "code",
   "execution_count": 27,
   "metadata": {},
   "outputs": [],
   "source": [
    "def card_df(card_num): # 리뷰 순서 = card_num\n",
    "    df = pd.DataFrame(index=[0],columns=['작성자', '별점', '작성일', '작성내용']) # 데이터프레임 생성(index 번호, 컬럼명 지정)\n",
    "    df['작성자'] = data_name(card_num) # 작성자 컬럼에 data_name 함수 결과 값 입력\n",
    "    df['별점'] = data_star(card_num) # 별점 컬럼에 data_star 함수 결과 값 입력\n",
    "    df['작성일'] = data_date(card_num) # 작성일 컬럼에 data_date 함수 결과 값 입력\n",
    "    df['작성내용'] = review_paragraph(card_num) # 작성내용 컬럼에 review_paragraph 함수 결과 값 입력\n",
    "    \n",
    "    df = pd.concat([df, menu_paragraph(card_num)], axis=1) # 가로 방향으로 이어붙이기\n",
    "    \n",
    "    # 각 컬럼의 인덱스 0값을 똑같이 입력\n",
    "    df['작성자'] = df['작성자'][0]\n",
    "    df['별점'] = df['별점'][0]\n",
    "    df['작성일'] = df['작성일'][0]\n",
    "    df['작성내용'] = df['작성내용'][0]\n",
    "    \n",
    "    return df"
   ]
  },
  {
   "cell_type": "code",
   "execution_count": 28,
   "metadata": {},
   "outputs": [
    {
     "data": {
      "text/html": [
       "<div>\n",
       "<style scoped>\n",
       "    .dataframe tbody tr th:only-of-type {\n",
       "        vertical-align: middle;\n",
       "    }\n",
       "\n",
       "    .dataframe tbody tr th {\n",
       "        vertical-align: top;\n",
       "    }\n",
       "\n",
       "    .dataframe thead th {\n",
       "        text-align: right;\n",
       "    }\n",
       "</style>\n",
       "<table border=\"1\" class=\"dataframe\">\n",
       "  <thead>\n",
       "    <tr style=\"text-align: right;\">\n",
       "      <th></th>\n",
       "      <th>작성자</th>\n",
       "      <th>별점</th>\n",
       "      <th>작성일</th>\n",
       "      <th>작성내용</th>\n",
       "      <th>주문메뉴</th>\n",
       "    </tr>\n",
       "  </thead>\n",
       "  <tbody>\n",
       "    <tr>\n",
       "      <th>0</th>\n",
       "      <td>lim4****</td>\n",
       "      <td>5</td>\n",
       "      <td>2021-09-16</td>\n",
       "      <td>깐풍기가 생가보다 양이 넉넉해서 좋았습니다.쟁반짜장은 뭐 말하기 입아프고요.오늘도 ...</td>\n",
       "      <td>깐풍기</td>\n",
       "    </tr>\n",
       "    <tr>\n",
       "      <th>1</th>\n",
       "      <td>lim4****</td>\n",
       "      <td>5</td>\n",
       "      <td>2021-09-16</td>\n",
       "      <td>깐풍기가 생가보다 양이 넉넉해서 좋았습니다.쟁반짜장은 뭐 말하기 입아프고요.오늘도 ...</td>\n",
       "      <td>쟁반짜장(순한맛)</td>\n",
       "    </tr>\n",
       "    <tr>\n",
       "      <th>2</th>\n",
       "      <td>lim4****</td>\n",
       "      <td>5</td>\n",
       "      <td>2021-09-16</td>\n",
       "      <td>깐풍기가 생가보다 양이 넉넉해서 좋았습니다.쟁반짜장은 뭐 말하기 입아프고요.오늘도 ...</td>\n",
       "      <td>볶음밥</td>\n",
       "    </tr>\n",
       "  </tbody>\n",
       "</table>\n",
       "</div>"
      ],
      "text/plain": [
       "        작성자 별점         작성일                                               작성내용  \\\n",
       "0  lim4****  5  2021-09-16  깐풍기가 생가보다 양이 넉넉해서 좋았습니다.쟁반짜장은 뭐 말하기 입아프고요.오늘도 ...   \n",
       "1  lim4****  5  2021-09-16  깐풍기가 생가보다 양이 넉넉해서 좋았습니다.쟁반짜장은 뭐 말하기 입아프고요.오늘도 ...   \n",
       "2  lim4****  5  2021-09-16  깐풍기가 생가보다 양이 넉넉해서 좋았습니다.쟁반짜장은 뭐 말하기 입아프고요.오늘도 ...   \n",
       "\n",
       "        주문메뉴  \n",
       "0        깐풍기  \n",
       "1  쟁반짜장(순한맛)  \n",
       "2        볶음밥  "
      ]
     },
     "execution_count": 28,
     "metadata": {},
     "output_type": "execute_result"
    }
   ],
   "source": [
    "card_df(5)"
   ]
  },
  {
   "cell_type": "code",
   "execution_count": 33,
   "metadata": {},
   "outputs": [],
   "source": [
    "## 동작 모음\n",
    "def scroll_down():\n",
    "    driver.find_element(By.TAG_NAME, 'body').send_keys(Keys.PAGE_DOWN) # 스크롤 내리기\n",
    "\n",
    "\n",
    "## 데이터 추출 모음\n",
    "def data_name(card_num):\n",
    "    name = driver.find_element(By.XPATH, '//*[@id=\"review-page\"]/div[4]/div/div['+str(card_num)+']/div[1]/div[1]/p').text\n",
    "    \n",
    "    return name\n",
    "    \n",
    "    \n",
    "def data_star(card_num):\n",
    "    star = driver.find_element(By.XPATH, '//*[@id=\"review-page\"]/div[4]/div/div['+str(card_num)+']/div[1]/div[1]/div').text\n",
    "    \n",
    "    return star\n",
    "                                        \n",
    "\n",
    "def data_date(card_num):\n",
    "    order_date = driver.find_element(By.XPATH, '//*[@id=\"review-page\"]/div[4]/div/div['+str(card_num)+']/div[1]/div[1]/span').text\n",
    "    \n",
    "    if order_date == \"오늘\":\n",
    "        order_date = str(date.today())\n",
    "        \n",
    "    elif order_date == \"어제\":\n",
    "        order_date = str(date.today()-timedelta(days=1))\n",
    "    \n",
    "    elif order_date == \"그제\":\n",
    "        order_date = str(date.today()-timedelta(days=2))\n",
    "    \n",
    "    elif order_date == \"지난 주\":\n",
    "        order_date = str(date.today()-timedelta(weeks=1))\n",
    "    \n",
    "    elif order_date == \"지난 달\":\n",
    "        order_date = str(date.today()-timedelta(weeks=4))\n",
    "    \n",
    "    elif order_date in ['2개월 전', '3개월 전', '4개월 전', '5개월 전', '6개월 전']:\n",
    "        for month in range(2, 7):\n",
    "            if order_date == str(month)+\"개월 전\":\n",
    "                order_date = str(date.today()-timedelta(weeks=month*4))\n",
    "            else:\n",
    "                pass\n",
    "    \n",
    "    return order_date\n",
    "                                        \n",
    "\n",
    "def right_paragraph(card_num):\n",
    "    sentence= driver.find_element(By.XPATH, '//*[@id=\"review-page\"]/div[4]/div/div['+str(card_num)+']/div[2]').text\n",
    "    \n",
    "    return sentence\n",
    "    \n",
    "\n",
    "def review_paragraph(card_num):\n",
    "    sentence = right_paragraph(card_num)\n",
    "    \n",
    "    try:\n",
    "        sentence = re.sub('\\n메뉴사진|메뉴사진', '', sentence)\n",
    "        menu_location = sentence.find('주문메뉴')\n",
    "        \n",
    "        if menu_location==0:\n",
    "            sentence = '해당내용 없음'\n",
    "        else:\n",
    "            sentence = sentence[:(menu_location-1)]\n",
    "            sentence = re.sub('사장님에게만 보이는 리뷰입니다.|\\n', '', sentence)\n",
    "        \n",
    "    except:\n",
    "        pass\n",
    "    \n",
    "    return sentence\n",
    "\n",
    "                                        \n",
    "def delete_reply(card_num):\n",
    "    sentence = right_paragraph(card_num)\n",
    "    \n",
    "    try:\n",
    "        owner_location = sentence.rfind('\\n사장님')\n",
    "        \n",
    "        if sentence.find('\\n주문메뉴') < owner_location:\n",
    "            sentence = sentence[:owner_location]\n",
    "        else:\n",
    "            pass\n",
    "    \n",
    "    except:\n",
    "        pass\n",
    "    \n",
    "    return sentence\n",
    "                                        \n",
    "                                        \n",
    "def menu_paragraph(card_num):\n",
    "    try:\n",
    "        sentence = delete_reply(card_num)\n",
    "    except:\n",
    "        pass\n",
    "    \n",
    "    menu_location = sentence.find('\\n주문메뉴')\n",
    "    sentence = sentence[(menu_location+5):]\n",
    "    \n",
    "    sentence = re.sub('\\n등록된 지 30일이 지난 리뷰는 사장님 댓글을 등록할 수 없어요.|\\n메뉴사진|\\n주문메뉴|\\n배달리뷰|\\n좋아요|\\n삭제|\\n추천|\\n사장님 댓글 등록하기', '', sentence)\n",
    "    \n",
    "    menu_list = sentence.split('\\n')\n",
    "    menu_list.remove('')\n",
    "    \n",
    "    menu_df = pd.DataFrame(data=menu_list, columns=['주문메뉴'])\n",
    "    \n",
    "    return menu_df\n",
    "\n",
    "\n",
    "def card_df(card_num):\n",
    "    df = pd.DataFrame(index=[0],columns=['작성자', '별점', '작성일', '작성내용'])\n",
    "    df['작성자'] = data_name(card_num)\n",
    "    df['별점'] = data_star(card_num)\n",
    "    df['작성일'] = data_date(card_num)\n",
    "    df['작성내용'] = review_paragraph(card_num)\n",
    "    df = pd.concat([df, menu_paragraph(card_num)], axis=1)\n",
    "    \n",
    "    df['작성자'] = df['작성자'][0]\n",
    "    df['별점'] = df['별점'][0]\n",
    "    df['작성일'] = df['작성일'][0]\n",
    "    df['작성내용'] = df['작성내용'][0]\n",
    "    \n",
    "    return df"
   ]
  },
  {
   "cell_type": "code",
   "execution_count": 34,
   "metadata": {},
   "outputs": [
    {
     "name": "stdout",
     "output_type": "stream",
     "text": [
      "용맹님의 주문메뉴는 없습니다\n",
      "aena****님의 주문메뉴는 없습니다\n"
     ]
    },
    {
     "ename": "KeyboardInterrupt",
     "evalue": "",
     "output_type": "error",
     "traceback": [
      "\u001b[0;31m---------------------------------------------------------------------------\u001b[0m",
      "\u001b[0;31mKeyboardInterrupt\u001b[0m                         Traceback (most recent call last)",
      "Input \u001b[0;32mIn [34]\u001b[0m, in \u001b[0;36m<cell line: 2>\u001b[0;34m()\u001b[0m\n\u001b[1;32m      9\u001b[0m     scroll_down()\n\u001b[1;32m     10\u001b[0m     scroll_down()\n\u001b[0;32m---> 11\u001b[0m     \u001b[43mtime\u001b[49m\u001b[38;5;241;43m.\u001b[39;49m\u001b[43msleep\u001b[49m\u001b[43m(\u001b[49m\u001b[38;5;241;43m0.5\u001b[39;49m\u001b[43m)\u001b[49m \u001b[38;5;66;03m# 0.5초 쉬어주기\u001b[39;00m\n\u001b[1;32m     12\u001b[0m \u001b[38;5;28;01mtry\u001b[39;00m:\n\u001b[1;32m     13\u001b[0m     review_df \u001b[38;5;241m=\u001b[39m pd\u001b[38;5;241m.\u001b[39mconcat([review_df, card_df(card_num)]) \u001b[38;5;66;03m# 전체 리뷰 데이터프레임과 각 리뷰 데이터 합치기\u001b[39;00m\n",
      "\u001b[0;31mKeyboardInterrupt\u001b[0m: "
     ]
    }
   ],
   "source": [
    "review_df = pd.DataFrame() # 전체 리뷰 데이터를 담을 빈 데이터프레임 생성\n",
    "for card_num in range(1,317): # card_num=리뷰 순서, 1부터 리뷰 개수+1만큼 입력합니다. ex)전체 리뷰 301개 -> 1, 302 입력\n",
    "    if card_num % 9 == 0: # 9의 배수마다 스크롤 내리기\n",
    "        scroll_down()\n",
    "        scroll_down()\n",
    "        scroll_down()\n",
    "        scroll_down()\n",
    "        scroll_down()\n",
    "        scroll_down()\n",
    "        scroll_down()\n",
    "        time.sleep(0.5) # 0.5초 쉬어주기\n",
    "    try:\n",
    "        review_df = pd.concat([review_df, card_df(card_num)]) # 전체 리뷰 데이터프레임과 각 리뷰 데이터 합치기\n",
    "    except:\n",
    "        print(data_name(card_num)+\"님의 주문메뉴는 없습니다\") # 예외인 경우 : 주문메뉴가 없는 경우, 아이디+주문메뉴 없음 나타내기"
   ]
  },
  {
   "cell_type": "code",
   "execution_count": 35,
   "metadata": {},
   "outputs": [
    {
     "data": {
      "text/html": [
       "<div>\n",
       "<style scoped>\n",
       "    .dataframe tbody tr th:only-of-type {\n",
       "        vertical-align: middle;\n",
       "    }\n",
       "\n",
       "    .dataframe tbody tr th {\n",
       "        vertical-align: top;\n",
       "    }\n",
       "\n",
       "    .dataframe thead th {\n",
       "        text-align: right;\n",
       "    }\n",
       "</style>\n",
       "<table border=\"1\" class=\"dataframe\">\n",
       "  <thead>\n",
       "    <tr style=\"text-align: right;\">\n",
       "      <th></th>\n",
       "      <th>작성자</th>\n",
       "      <th>별점</th>\n",
       "      <th>작성일</th>\n",
       "      <th>작성내용</th>\n",
       "      <th>주문메뉴</th>\n",
       "    </tr>\n",
       "  </thead>\n",
       "  <tbody>\n",
       "    <tr>\n",
       "      <th>0</th>\n",
       "      <td>홍만이</td>\n",
       "      <td>5</td>\n",
       "      <td>2022-05-18</td>\n",
       "      <td>변함없이 맛있어서 중국음식 먹고 싶을 때는 구가네에서 주문하게 되요 ㅎㅎ 맛난음식 ...</td>\n",
       "      <td>9. 등심 탕수육+쟁반짜장2</td>\n",
       "    </tr>\n",
       "    <tr>\n",
       "      <th>0</th>\n",
       "      <td>띵동</td>\n",
       "      <td>5</td>\n",
       "      <td>2022-05-17</td>\n",
       "      <td>오늘 너무 맛있습니다~^-^♡항상 여기서만 먹겠습니다!!^0^</td>\n",
       "      <td>7. 등심 탕수육+짜장1+짬뽕1</td>\n",
       "    </tr>\n",
       "    <tr>\n",
       "      <th>0</th>\n",
       "      <td>아쿠아마린</td>\n",
       "      <td>4</td>\n",
       "      <td>2022-05-17</td>\n",
       "      <td>해당내용 없음</td>\n",
       "      <td>짜장면</td>\n",
       "    </tr>\n",
       "    <tr>\n",
       "      <th>0</th>\n",
       "      <td>살남자</td>\n",
       "      <td>5</td>\n",
       "      <td>2022-05-11</td>\n",
       "      <td>해당내용 없음</td>\n",
       "      <td>잡채밥</td>\n",
       "    </tr>\n",
       "    <tr>\n",
       "      <th>0</th>\n",
       "      <td>yj</td>\n",
       "      <td>5</td>\n",
       "      <td>2022-05-11</td>\n",
       "      <td>어린이날, 어버이날 기념해서 칠리새우 주문했어요~ 새우도 통통하고 칠리소스랑 잘 어...</td>\n",
       "      <td>칠리중새우</td>\n",
       "    </tr>\n",
       "    <tr>\n",
       "      <th>...</th>\n",
       "      <td>...</td>\n",
       "      <td>...</td>\n",
       "      <td>...</td>\n",
       "      <td>...</td>\n",
       "      <td>...</td>\n",
       "    </tr>\n",
       "    <tr>\n",
       "      <th>0</th>\n",
       "      <td>졸려</td>\n",
       "      <td>5</td>\n",
       "      <td>작년</td>\n",
       "      <td>양&amp;질&amp;맛 뭐하나 빼놓은게 없네요진짜 맛있고 배달도 빠릅니다인생 맛집 찾았네요</td>\n",
       "      <td>2. 등심 탕수육+간짜장1</td>\n",
       "    </tr>\n",
       "    <tr>\n",
       "      <th>0</th>\n",
       "      <td>gurisarang</td>\n",
       "      <td>5</td>\n",
       "      <td>작년</td>\n",
       "      <td>해당내용 없음</td>\n",
       "      <td>2. 등심 탕수육+간짜장1</td>\n",
       "    </tr>\n",
       "    <tr>\n",
       "      <th>1</th>\n",
       "      <td>gurisarang</td>\n",
       "      <td>5</td>\n",
       "      <td>작년</td>\n",
       "      <td>해당내용 없음</td>\n",
       "      <td>볶음밥</td>\n",
       "    </tr>\n",
       "    <tr>\n",
       "      <th>0</th>\n",
       "      <td>대한민국쿠팡맨</td>\n",
       "      <td>5</td>\n",
       "      <td>작년</td>\n",
       "      <td>맛있어요!</td>\n",
       "      <td>운북동 (일부지역제외)</td>\n",
       "    </tr>\n",
       "    <tr>\n",
       "      <th>1</th>\n",
       "      <td>대한민국쿠팡맨</td>\n",
       "      <td>5</td>\n",
       "      <td>작년</td>\n",
       "      <td>맛있어요!</td>\n",
       "      <td>0. 등심 탕수육+차돌박이짬뽕</td>\n",
       "    </tr>\n",
       "  </tbody>\n",
       "</table>\n",
       "<p>364 rows × 5 columns</p>\n",
       "</div>"
      ],
      "text/plain": [
       "           작성자 별점         작성일  \\\n",
       "0          홍만이  5  2022-05-18   \n",
       "0           띵동  5  2022-05-17   \n",
       "0        아쿠아마린  4  2022-05-17   \n",
       "0          살남자  5  2022-05-11   \n",
       "0           yj  5  2022-05-11   \n",
       "..         ... ..         ...   \n",
       "0           졸려  5          작년   \n",
       "0   gurisarang  5          작년   \n",
       "1   gurisarang  5          작년   \n",
       "0      대한민국쿠팡맨  5          작년   \n",
       "1      대한민국쿠팡맨  5          작년   \n",
       "\n",
       "                                                 작성내용               주문메뉴  \n",
       "0   변함없이 맛있어서 중국음식 먹고 싶을 때는 구가네에서 주문하게 되요 ㅎㅎ 맛난음식 ...    9. 등심 탕수육+쟁반짜장2  \n",
       "0                  오늘 너무 맛있습니다~^-^♡항상 여기서만 먹겠습니다!!^0^  7. 등심 탕수육+짜장1+짬뽕1  \n",
       "0                                             해당내용 없음                짜장면  \n",
       "0                                             해당내용 없음                잡채밥  \n",
       "0   어린이날, 어버이날 기념해서 칠리새우 주문했어요~ 새우도 통통하고 칠리소스랑 잘 어...              칠리중새우  \n",
       "..                                                ...                ...  \n",
       "0         양&질&맛 뭐하나 빼놓은게 없네요진짜 맛있고 배달도 빠릅니다인생 맛집 찾았네요     2. 등심 탕수육+간짜장1  \n",
       "0                                             해당내용 없음     2. 등심 탕수육+간짜장1  \n",
       "1                                             해당내용 없음                볶음밥  \n",
       "0                                               맛있어요!       운북동 (일부지역제외)  \n",
       "1                                               맛있어요!   0. 등심 탕수육+차돌박이짬뽕  \n",
       "\n",
       "[364 rows x 5 columns]"
      ]
     },
     "execution_count": 35,
     "metadata": {},
     "output_type": "execute_result"
    }
   ],
   "source": [
    "review_df"
   ]
  },
  {
   "cell_type": "code",
   "execution_count": 31,
   "metadata": {},
   "outputs": [],
   "source": [
    "review_df.to_excel('배달의민족_리뷰테스트.xlsx') # 엑셀 형태로 추출\n",
    "# 클렌징 : 주문메뉴에서 같이나온 텍스트는 제거\n",
    "# 클렌징 : 작성일 기준을 날짜형태로 바꿀 것"
   ]
  }
 ],
 "metadata": {
  "kernelspec": {
   "display_name": "Python 3 (ipykernel)",
   "language": "python",
   "name": "python3"
  },
  "language_info": {
   "codemirror_mode": {
    "name": "ipython",
    "version": 3
   },
   "file_extension": ".py",
   "mimetype": "text/x-python",
   "name": "python",
   "nbconvert_exporter": "python",
   "pygments_lexer": "ipython3",
   "version": "3.9.13"
  }
 },
 "nbformat": 4,
 "nbformat_minor": 4
}
