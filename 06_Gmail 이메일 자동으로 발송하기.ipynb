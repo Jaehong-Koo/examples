{
 "cells": [
  {
   "cell_type": "code",
   "execution_count": 1,
   "id": "c452fb0f",
   "metadata": {},
   "outputs": [],
   "source": [
    "import smtplib\n",
    "from email.mime.multipart import MIMEMultipart\n",
    "from email.mime.base import MIMEBase\n",
    "from email.mime.text import MIMEText\n",
    "from email import encoders\n",
    "import pandas as pd"
   ]
  },
  {
   "cell_type": "code",
   "execution_count": 2,
   "id": "b486b83c",
   "metadata": {},
   "outputs": [],
   "source": [
    "my_email = \"rnwoghd55@gmail.com\"\n",
    "my_pwd = \"비밀번호를 입력하세요\""
   ]
  },
  {
   "cell_type": "code",
   "execution_count": 3,
   "id": "6481376a",
   "metadata": {},
   "outputs": [
    {
     "data": {
      "text/plain": [
       "(235, b'2.7.0 Accepted')"
      ]
     },
     "execution_count": 3,
     "metadata": {},
     "output_type": "execute_result"
    }
   ],
   "source": [
    "gmail = smtplib.SMTP_SSL('smtp.gmail.com')\n",
    "gmail.login(my_email, my_pwd)"
   ]
  },
  {
   "cell_type": "code",
   "execution_count": 43,
   "id": "9699e800",
   "metadata": {},
   "outputs": [
    {
     "data": {
      "text/plain": [
       "{}"
      ]
     },
     "execution_count": 43,
     "metadata": {},
     "output_type": "execute_result"
    }
   ],
   "source": [
    "# 이메일 생성\n",
    "msg = MIMEMultipart('alternative')\n",
    "# 제목 설정\n",
    "msg['Subject'] = 'gmail 테스트 제목'\n",
    "# 발송인 설정\n",
    "msg['From'] = my_email\n",
    "# 수신인 설정\n",
    "msg['To'] = 'rnwoghd55@python.com'\n",
    "\n",
    "# 메일 내용 작성\n",
    "content = \"\"\"\n",
    "안녕하세요 00님,\n",
    "\n",
    "구재홍입니다.\n",
    "\n",
    "테스트의 목적으로 발송하고 있습니다.\n",
    "해당하는 실적은 다음과 같습니다.\n",
    "\n",
    "혹시 더 필요하거나 궁금하신 사항 있으시면 연락주시기 바랍니다.\n",
    "\n",
    "감사합니다.\n",
    "\n",
    "구재홍 드림\"\"\"\n",
    "\n",
    "body = MIMEText(content, 'plain')\n",
    "msg.attach(body)\n",
    "\n",
    "# 이메일 발송(발신인, 수신인, 이메일)\n",
    "gmail.sendmail(my_email, msg['To'], msg.as_string())"
   ]
  },
  {
   "cell_type": "code",
   "execution_count": 4,
   "id": "9621ad92",
   "metadata": {},
   "outputs": [],
   "source": [
    "test_df = pd.read_excel('gmail_엑셀테스트.xlsx')"
   ]
  },
  {
   "cell_type": "code",
   "execution_count": 11,
   "id": "03e2d771",
   "metadata": {},
   "outputs": [],
   "source": [
    "jaehong_df = test_df[test_df['이름']=='구재홍']"
   ]
  },
  {
   "cell_type": "code",
   "execution_count": 13,
   "id": "2f8518e4",
   "metadata": {},
   "outputs": [],
   "source": [
    "jaehong_df.to_excel('구재홍.xlsx')"
   ]
  },
  {
   "cell_type": "code",
   "execution_count": 16,
   "id": "cd7e6bd6",
   "metadata": {},
   "outputs": [
    {
     "data": {
      "text/plain": [
       "{}"
      ]
     },
     "execution_count": 16,
     "metadata": {},
     "output_type": "execute_result"
    }
   ],
   "source": [
    "# 이메일 생성\n",
    "msg = MIMEMultipart('alternative')\n",
    "# 제목 설정\n",
    "msg['Subject'] = 'gmail 테스트 제목'\n",
    "# 발송인 설정\n",
    "msg['From'] = my_email\n",
    "# 수신인 설정\n",
    "msg['To'] = 'rnwoghd55@python.com'\n",
    "\n",
    "# 메일 내용 작성\n",
    "content = \"\"\"\n",
    "안녕하세요 00님,\n",
    "\n",
    "구재홍입니다.\n",
    "\n",
    "테스트의 목적으로 발송하고 있습니다.\n",
    "해당하는 실적은 다음과 같습니다.\n",
    "\n",
    "혹시 더 필요하거나 궁금하신 사항 있으시면 연락주시기 바랍니다.\n",
    "\n",
    "감사합니다.\n",
    "\n",
    "구재홍 드림\"\"\"\n",
    "\n",
    "body = MIMEText(content, 'plain')\n",
    "msg.attach(body)\n",
    "\n",
    "# 파일 첨부하기 \n",
    "part = MIMEBase('application', \"octet-stream\")\n",
    "with open(\"구재홍.xlsx\", 'rb') as file:\n",
    "    part.set_payload(file.read())\n",
    "    encoders.encode_base64(part)\n",
    "    part.add_header('Content-Disposition', \"attachment\", filename=\"재홍.xlsx\")\n",
    "    msg.attach(part)\n",
    "\n",
    "# 이메일 발송(발신인, 수신인, 이메일)\n",
    "gmail.sendmail(my_email, msg['To'], msg.as_string())"
   ]
  },
  {
   "cell_type": "code",
   "execution_count": 12,
   "id": "81fd60dc",
   "metadata": {},
   "outputs": [],
   "source": [
    "def template(to_whom):\n",
    "    case = \"\"\"\n",
    "    안녕하세요 \"\"\"+to_whom+\"\"\"님,\n",
    "    \n",
    "    구재홍입니다.\n",
    "    \n",
    "    테스트의 목적으로 발송하고 있습니다.\n",
    "    해당하는 실적은 첨부파일과 같습니다.\n",
    "    \n",
    "    혹시 더 필요하거나 궁금하신 사항 있으시면 연락주시기 바랍니다.\n",
    "    \n",
    "    감사합니다.\n",
    "    \n",
    "    구재홍 드림\"\"\"\n",
    "    \n",
    "    return case"
   ]
  },
  {
   "cell_type": "code",
   "execution_count": 23,
   "id": "2d39506d",
   "metadata": {},
   "outputs": [
    {
     "data": {
      "text/plain": [
       "{}"
      ]
     },
     "execution_count": 23,
     "metadata": {},
     "output_type": "execute_result"
    }
   ],
   "source": [
    "# 이메일 생성\n",
    "msg = MIMEMultipart('alternative')\n",
    "# 제목 설정\n",
    "msg['Subject'] = 'gmail 테스트 제목'\n",
    "# 발송인 설정\n",
    "msg['From'] = my_email\n",
    "# 수신인 설정\n",
    "msg['To'] = 'rnwoghd55@python.com'\n",
    "\n",
    "# 메일 내용 작성\n",
    "content = template('구재홍')\n",
    "\n",
    "body = MIMEText(content, 'plain')\n",
    "msg.attach(body)\n",
    "\n",
    "# 파일 첨부하기 \n",
    "part = MIMEBase('application', \"octet-stream\")\n",
    "with open(\"구재홍.xlsx\", 'rb') as file:\n",
    "    part.set_payload(file.read())\n",
    "    encoders.encode_base64(part)\n",
    "    part.add_header('Content-Disposition', \"attachment\", filename=\"재홍.xlsx\")\n",
    "    msg.attach(part)\n",
    "\n",
    "# 이메일 발송(발신인, 수신인, 이메일)\n",
    "gmail.sendmail(my_email, msg['To'], msg.as_string())"
   ]
  },
  {
   "cell_type": "code",
   "execution_count": 28,
   "id": "688ee837",
   "metadata": {},
   "outputs": [
    {
     "data": {
      "text/plain": [
       "0    rnwoghd55@python.com\n",
       "1       chulsu@python.com\n",
       "2     younghee@python.com\n",
       "3        python@pyhon.com\n",
       "Name: 이메일, dtype: object"
      ]
     },
     "execution_count": 28,
     "metadata": {},
     "output_type": "execute_result"
    }
   ],
   "source": [
    "test_df['이메일'].drop_duplicates()"
   ]
  },
  {
   "cell_type": "code",
   "execution_count": 10,
   "id": "aa2e25b9",
   "metadata": {},
   "outputs": [],
   "source": [
    "email_to_list = list(test_df['이메일'].drop_duplicates())"
   ]
  },
  {
   "cell_type": "code",
   "execution_count": 13,
   "id": "c689d8be",
   "metadata": {},
   "outputs": [],
   "source": [
    "for num in range(0, len(email_to_list)):\n",
    "    \n",
    "    # 수신인 이메일, 수신인 이름, 수신인 첨부파일 지정\n",
    "    to_email = email_to_list[num] # 이메일 리스트 중 n번째 값\n",
    "    to_df = test_df[test_df['이메일'] == to_email] # 이메일 필터 값에 따른 데이터 프레임\n",
    "    to_name = to_df['이름'].iloc[0] # to_df에서 조회한 이름 값 중 0번째 값\n",
    "    \n",
    "    # 첨부 파일 생성\n",
    "    to_df.to_excel('{}.xlsx'.format(to_name))\n",
    "    \n",
    "    # 이메일 관련 발송\n",
    "    # 이메일 생성\n",
    "    msg = MIMEMultipart('alternative')\n",
    "    # 제목 설정\n",
    "    msg['Subject'] = 'gmail 테스트 제목'\n",
    "    # 발송인 설정\n",
    "    msg['From'] = my_email\n",
    "    # 수신인 설정\n",
    "    msg['To'] = to_email\n",
    "\n",
    "    # 메일 내용 작성\n",
    "    content = template(to_name)\n",
    "    body = MIMEText(content, 'plain')\n",
    "    msg.attach(body)\n",
    "    \n",
    "    # 파일 첨부하기 \n",
    "    part = MIMEBase('application', \"octet-stream\")\n",
    "    with open(\"{}.xlsx\".format(to_name), 'rb') as file:\n",
    "        part.set_payload(file.read())\n",
    "        encoders.encode_base64(part)\n",
    "        part.add_header('Content-Disposition', \"attachment\", filename=\"{}.xlsx\".format(to_name))\n",
    "        msg.attach(part)\n",
    "        \n",
    "    # 이메일 발송(발신인, 수신인, 이메일)\n",
    "    gmail.sendmail(my_email, to_email, msg.as_string())"
   ]
  },
  {
   "cell_type": "code",
   "execution_count": null,
   "id": "ae8dedf1",
   "metadata": {},
   "outputs": [],
   "source": [
    "# 사용할 이메일, 비밀번호 지정\n",
    "my_email = \"rnwoghd55@gmail.com\"\n",
    "my_pwd = \"159753rR!\"\n",
    "\n",
    "# 이메일 연결, 로그인\n",
    "gmail = smtplib.SMTP_SSL('smtp.gmail.com')\n",
    "gmail.login(my_email, my_pwd)\n",
    "\n",
    "# 사용할 엑셀파일(예제) 데이터 프레임화\n",
    "test_df = pd.read_excel('gmail_엑셀테스트.xlsx')\n",
    "\n",
    "# 본문 내용 함수화\n",
    "def template(to_whom):\n",
    "    case = \"\"\"\n",
    "    안녕하세요 \"\"\"+to_whom+\"\"\"님,\n",
    "    \n",
    "    구재홍입니다.\n",
    "    \n",
    "    테스트의 목적으로 발송하고 있습니다.\n",
    "    해당하는 실적은 첨부파일과 같습니다.\n",
    "    \n",
    "    혹시 더 필요하거나 궁금하신 사항 있으시면 연락주시기 바랍니다.\n",
    "    \n",
    "    감사합니다.\n",
    "    \n",
    "    구재홍 드림\"\"\"\n",
    "    \n",
    "    return case\n",
    "\n",
    "# 이메일 리스트\n",
    "email_to_list = list(test_df['이메일'].drop_duplicates())\n",
    "\n",
    "# 여러명에게 이메일 발송(반복문)\n",
    "for num in range(0, len(email_to_list)):\n",
    "    \n",
    "    # 수신인 이메일, 수신인 이름, 수신인 첨부파일 지정\n",
    "    to_email = email_to_list[num] # 이메일 리스트 중 n번째 값\n",
    "    to_df = test_df[test_df['이메일'] == to_email] # 이메일 필터 값에 따른 데이터 프레임\n",
    "    to_name = to_df['이름'].iloc[0] # to_df에서 조회한 이름 값 중 0번째 값\n",
    "    \n",
    "    # 첨부 파일 생성\n",
    "    to_df.to_excel('{}.xlsx'.format(to_name))\n",
    "    \n",
    "    # 이메일 관련 발송\n",
    "    # 이메일 생성\n",
    "    msg = MIMEMultipart('alternative')\n",
    "    # 제목 설정\n",
    "    msg['Subject'] = 'gmail 테스트 제목'\n",
    "    # 발송인 설정\n",
    "    msg['From'] = my_email\n",
    "    # 수신인 설정\n",
    "    msg['To'] = to_email\n",
    "\n",
    "    # 메일 내용 작성\n",
    "    content = template(to_name)\n",
    "    body = MIMEText(content, 'plain')\n",
    "    msg.attach(body)\n",
    "    \n",
    "    # 파일 첨부하기 \n",
    "    part = MIMEBase('application', \"octet-stream\")\n",
    "    with open(\"{}.xlsx\".format(to_name), 'rb') as file:\n",
    "        part.set_payload(file.read())\n",
    "        encoders.encode_base64(part)\n",
    "        part.add_header('Content-Disposition', \"attachment\", filename=\"{}.xlsx\".format(to_name))\n",
    "        msg.attach(part)\n",
    "        \n",
    "    # 이메일 발송(발신인, 수신인, 이메일)\n",
    "    gmail.sendmail(my_email, to_email, msg.as_string())"
   ]
  }
 ],
 "metadata": {
  "kernelspec": {
   "display_name": "Python 3 (ipykernel)",
   "language": "python",
   "name": "python3"
  },
  "language_info": {
   "codemirror_mode": {
    "name": "ipython",
    "version": 3
   },
   "file_extension": ".py",
   "mimetype": "text/x-python",
   "name": "python",
   "nbconvert_exporter": "python",
   "pygments_lexer": "ipython3",
   "version": "3.9.13"
  }
 },
 "nbformat": 4,
 "nbformat_minor": 5
}
