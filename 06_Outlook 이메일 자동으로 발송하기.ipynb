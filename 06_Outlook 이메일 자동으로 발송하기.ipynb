{
 "cells": [
  {
   "cell_type": "code",
   "execution_count": 1,
   "metadata": {},
   "outputs": [],
   "source": [
    "import pandas as pd # 판다스\n",
    "import win32com.client as client # win32com\n",
    "import time # 시간과 관련된 라이브러리\n",
    "from time import sleep"
   ]
  },
  {
   "cell_type": "code",
   "execution_count": 1,
   "metadata": {},
   "outputs": [
    {
     "name": "stdout",
     "output_type": "stream",
     "text": [
      "Requirement already satisfied: pywin32 in c:\\users\\jaehong.koo\\anaconda3\\lib\\site-packages (227)\n",
      "Note: you may need to restart the kernel to use updated packages.\n"
     ]
    }
   ],
   "source": [
    "pip install pywin32 # win32com 라이브러리 설치, 설치 종료 후 다시 실행할 것"
   ]
  },
  {
   "cell_type": "code",
   "execution_count": 2,
   "metadata": {},
   "outputs": [],
   "source": [
    "# 아웃룩 어플리케이션 조작 -> 'outlook' 변수 지정\n",
    "outlook = client.Dispatch(\"Outlook.Application\") "
   ]
  },
  {
   "cell_type": "code",
   "execution_count": 3,
   "metadata": {},
   "outputs": [],
   "source": [
    "# outlook에서 새 전자 메일 생성\n",
    "message = outlook.CreateItem(0)"
   ]
  },
  {
   "cell_type": "code",
   "execution_count": 3,
   "metadata": {},
   "outputs": [],
   "source": [
    "# outlook에서 새 전자 메일 생성\n",
    "message = outlook.CreateItem(0)\n",
    "message.To = \"rnwoghd55@gmail.com; rnwoghd55@naver.com\"\n",
    "message.CC = \"rnwoghd55@hanmail.com\"\n",
    "message.Subject = \"개인에게 보내는 테스트 이메일\"\n",
    "message.Display() # 작성한 이메일 나타내기"
   ]
  },
  {
   "cell_type": "code",
   "execution_count": 4,
   "metadata": {},
   "outputs": [],
   "source": [
    "body = \"\"\"<html xmlns:v=\"urn:schemas-microsoft-com:vml\" xmlns:o=\"urn:schemas-microsoft-com:office:office\" xmlns:w=\"urn:schemas-microsoft-com:office:word\" xmlns:m=\"http://schemas.microsoft.com/office/2004/12/omml\" xmlns=\"http://www.w3.org/TR/REC-html40\"><head><meta http-equiv=Content-Type content=\"text/html; charset=ks_c_5601-1987\"><meta name=Generator content=\"Microsoft Word 15 (filtered medium)\"><style><!--\n",
    "/* Font Definitions */\n",
    "@font-face\n",
    "\t{font-family:\"Cambria Math\";\n",
    "\tpanose-1:2 4 5 3 5 4 6 3 2 4;}\n",
    "@font-face\n",
    "\t{font-family:\"맑은 고딕\";\n",
    "\tpanose-1:2 11 5 3 2 0 0 2 0 4;}\n",
    "@font-face\n",
    "\t{font-family:\"\\@맑은 고딕\";}\n",
    "/* Style Definitions */\n",
    "p.MsoNormal, li.MsoNormal, div.MsoNormal\n",
    "\t{margin:0cm;\n",
    "\tmargin-bottom:.0001pt;\n",
    "\ttext-align:justify;\n",
    "\ttext-justify:inter-ideograph;\n",
    "\ttext-autospace:none;\n",
    "\tword-break:break-hangul;\n",
    "\tfont-size:10.0pt;\n",
    "\tfont-family:\"맑은 고딕\";}\n",
    "a:link, span.MsoHyperlink\n",
    "\t{mso-style-priority:99;\n",
    "\tcolor:#0563C1;\n",
    "\ttext-decoration:underline;}\n",
    "a:visited, span.MsoHyperlinkFollowed\n",
    "\t{mso-style-priority:99;\n",
    "\tcolor:#954F72;\n",
    "\ttext-decoration:underline;}\n",
    "span.EmailStyle17\n",
    "\t{mso-style-type:personal-compose;\n",
    "\tfont-family:\"맑은 고딕\";\n",
    "\tcolor:windowtext;}\n",
    ".MsoChpDefault\n",
    "\t{mso-style-type:export-only;\n",
    "\tfont-family:\"맑은 고딕\";}\n",
    "/* Page Definitions */\n",
    "@page WordSection1\n",
    "\t{size:612.0pt 792.0pt;\n",
    "\tmargin:3.0cm 72.0pt 72.0pt 72.0pt;}\n",
    "div.WordSection1\n",
    "\t{page:WordSection1;}\n",
    "--></style><!--[if gte mso 9]><xml>\n",
    "<o:shapedefaults v:ext=\"edit\" spidmax=\"1026\" />\n",
    "</xml><![endif]--><!--[if gte mso 9]><xml>\n",
    "<o:shapelayout v:ext=\"edit\">\n",
    "<o:idmap v:ext=\"edit\" data=\"1\" />\n",
    "</o:shapelayout></xml><![endif]--></head><body lang=KO link=\"#0563C1\" vlink=\"#954F72\"><div class=WordSection1><p class=MsoNormal>안녕하세요<span lang=EN-US>,<o:p></o:p></span></p><p class=MsoNormal><span lang=EN-US><o:p>&nbsp;</o:p></span></p><p class=MsoNormal>구재홍입니다<span lang=EN-US>.<o:p></o:p></span></p><p class=MsoNormal><span lang=EN-US><o:p>&nbsp;</o:p></span></p><p class=MsoNormal>본 이메일의 목적은 테스트입니다<span lang=EN-US>.<o:p></o:p></span></p><p class=MsoNormal>개인 또는 여러 사람에게 메일을 보낼 수 있습니다<span lang=EN-US>.<o:p></o:p></span></p><p class=MsoNormal><span lang=EN-US><o:p>&nbsp;</o:p></span></p><p class=MsoNormal><b><u>테스트가 성공적인지 확인하고자 하는 이메일입니다<span lang=EN-US>.<o:p></o:p></span></u></b></p><p class=MsoNormal><span lang=EN-US><o:p>&nbsp;</o:p></span></p><p class=MsoNormal>혹시 더 궁금하신 점 있으시면 언제든지 연락 주시기 바랍니다<span lang=EN-US>.<o:p></o:p></span></p><p class=MsoNormal><span lang=EN-US><o:p>&nbsp;</o:p></span></p><p class=MsoNormal>감사합니다<span lang=EN-US>.<o:p></o:p></span></p><p class=MsoNormal><span lang=EN-US><o:p>&nbsp;</o:p></span></p><p class=MsoNormal>구재홍 드림<span lang=EN-US><o:p></o:p></span></p></div></body></html>\"\"\""
   ]
  },
  {
   "cell_type": "code",
   "execution_count": 5,
   "metadata": {},
   "outputs": [],
   "source": [
    "# outlook에서 새 전자 메일 생성\n",
    "message = outlook.CreateItem(0)\n",
    "message.To = \"rnwoghd55@gmail.com; rnwoghd55@naver.com\"\n",
    "message.Subject = \"개인에게 보내는 테스트 이메일\"\n",
    "message.HTMLBody = body # 지정한 body 본문에 적용\n",
    "message.Save() # 임시보관함 저장\n",
    "message.Display() # 작성한 이메일 나타내기"
   ]
  },
  {
   "cell_type": "code",
   "execution_count": 4,
   "metadata": {},
   "outputs": [],
   "source": [
    "test_df = pd.read_excel('아웃룩_엑셀테스트.xlsx')"
   ]
  },
  {
   "cell_type": "code",
   "execution_count": 5,
   "metadata": {},
   "outputs": [
    {
     "data": {
      "text/html": [
       "<div>\n",
       "<style scoped>\n",
       "    .dataframe tbody tr th:only-of-type {\n",
       "        vertical-align: middle;\n",
       "    }\n",
       "\n",
       "    .dataframe tbody tr th {\n",
       "        vertical-align: top;\n",
       "    }\n",
       "\n",
       "    .dataframe thead th {\n",
       "        text-align: right;\n",
       "    }\n",
       "</style>\n",
       "<table border=\"1\" class=\"dataframe\">\n",
       "  <thead>\n",
       "    <tr style=\"text-align: right;\">\n",
       "      <th></th>\n",
       "      <th>이름</th>\n",
       "      <th>이메일</th>\n",
       "      <th>부서</th>\n",
       "      <th>내용</th>\n",
       "      <th>실적</th>\n",
       "    </tr>\n",
       "  </thead>\n",
       "  <tbody>\n",
       "    <tr>\n",
       "      <th>0</th>\n",
       "      <td>구재홍</td>\n",
       "      <td>rnwoghd55@python.com</td>\n",
       "      <td>PO</td>\n",
       "      <td>내용A</td>\n",
       "      <td>10k</td>\n",
       "    </tr>\n",
       "    <tr>\n",
       "      <th>1</th>\n",
       "      <td>철수</td>\n",
       "      <td>chulsu@python.com</td>\n",
       "      <td>Sales</td>\n",
       "      <td>내용B</td>\n",
       "      <td>2k</td>\n",
       "    </tr>\n",
       "    <tr>\n",
       "      <th>2</th>\n",
       "      <td>영희</td>\n",
       "      <td>younghee@python.com</td>\n",
       "      <td>Marketing</td>\n",
       "      <td>내용C</td>\n",
       "      <td>1k</td>\n",
       "    </tr>\n",
       "    <tr>\n",
       "      <th>3</th>\n",
       "      <td>파이썬</td>\n",
       "      <td>python@python.com</td>\n",
       "      <td>Develop</td>\n",
       "      <td>내용D</td>\n",
       "      <td>15k</td>\n",
       "    </tr>\n",
       "    <tr>\n",
       "      <th>4</th>\n",
       "      <td>구재홍</td>\n",
       "      <td>rnwoghd55@python.com</td>\n",
       "      <td>PO</td>\n",
       "      <td>내용E</td>\n",
       "      <td>3k</td>\n",
       "    </tr>\n",
       "    <tr>\n",
       "      <th>5</th>\n",
       "      <td>영희</td>\n",
       "      <td>younghee@python.com</td>\n",
       "      <td>Marketing</td>\n",
       "      <td>내용F</td>\n",
       "      <td>6k</td>\n",
       "    </tr>\n",
       "  </tbody>\n",
       "</table>\n",
       "</div>"
      ],
      "text/plain": [
       "    이름                   이메일         부서   내용   실적\n",
       "0  구재홍  rnwoghd55@python.com         PO  내용A  10k\n",
       "1   철수     chulsu@python.com      Sales  내용B   2k\n",
       "2   영희   younghee@python.com  Marketing  내용C   1k\n",
       "3  파이썬     python@python.com    Develop  내용D  15k\n",
       "4  구재홍  rnwoghd55@python.com         PO  내용E   3k\n",
       "5   영희   younghee@python.com  Marketing  내용F   6k"
      ]
     },
     "execution_count": 5,
     "metadata": {},
     "output_type": "execute_result"
    }
   ],
   "source": [
    "test_df"
   ]
  },
  {
   "cell_type": "code",
   "execution_count": 6,
   "metadata": {},
   "outputs": [
    {
     "data": {
      "text/html": [
       "<div>\n",
       "<style scoped>\n",
       "    .dataframe tbody tr th:only-of-type {\n",
       "        vertical-align: middle;\n",
       "    }\n",
       "\n",
       "    .dataframe tbody tr th {\n",
       "        vertical-align: top;\n",
       "    }\n",
       "\n",
       "    .dataframe thead th {\n",
       "        text-align: right;\n",
       "    }\n",
       "</style>\n",
       "<table border=\"1\" class=\"dataframe\">\n",
       "  <thead>\n",
       "    <tr style=\"text-align: right;\">\n",
       "      <th></th>\n",
       "      <th>이름</th>\n",
       "      <th>이메일</th>\n",
       "      <th>부서</th>\n",
       "      <th>내용</th>\n",
       "      <th>실적</th>\n",
       "    </tr>\n",
       "  </thead>\n",
       "  <tbody>\n",
       "    <tr>\n",
       "      <th>0</th>\n",
       "      <td>구재홍</td>\n",
       "      <td>rnwoghd55@python.com</td>\n",
       "      <td>PO</td>\n",
       "      <td>내용A</td>\n",
       "      <td>10k</td>\n",
       "    </tr>\n",
       "    <tr>\n",
       "      <th>4</th>\n",
       "      <td>구재홍</td>\n",
       "      <td>rnwoghd55@python.com</td>\n",
       "      <td>PO</td>\n",
       "      <td>내용E</td>\n",
       "      <td>3k</td>\n",
       "    </tr>\n",
       "  </tbody>\n",
       "</table>\n",
       "</div>"
      ],
      "text/plain": [
       "    이름                   이메일  부서   내용   실적\n",
       "0  구재홍  rnwoghd55@python.com  PO  내용A  10k\n",
       "4  구재홍  rnwoghd55@python.com  PO  내용E   3k"
      ]
     },
     "execution_count": 6,
     "metadata": {},
     "output_type": "execute_result"
    }
   ],
   "source": [
    "test_df[test_df['이름'] == '구재홍']"
   ]
  },
  {
   "cell_type": "code",
   "execution_count": 4,
   "metadata": {},
   "outputs": [],
   "source": [
    "def user_table(name):\n",
    "    df = test_df[test_df['이름'] == name]\n",
    "    \n",
    "    return df"
   ]
  },
  {
   "cell_type": "code",
   "execution_count": 13,
   "metadata": {},
   "outputs": [
    {
     "data": {
      "text/html": [
       "<div>\n",
       "<style scoped>\n",
       "    .dataframe tbody tr th:only-of-type {\n",
       "        vertical-align: middle;\n",
       "    }\n",
       "\n",
       "    .dataframe tbody tr th {\n",
       "        vertical-align: top;\n",
       "    }\n",
       "\n",
       "    .dataframe thead th {\n",
       "        text-align: right;\n",
       "    }\n",
       "</style>\n",
       "<table border=\"1\" class=\"dataframe\">\n",
       "  <thead>\n",
       "    <tr style=\"text-align: right;\">\n",
       "      <th></th>\n",
       "      <th>이름</th>\n",
       "      <th>이메일</th>\n",
       "      <th>부서</th>\n",
       "      <th>내용</th>\n",
       "      <th>실적</th>\n",
       "    </tr>\n",
       "  </thead>\n",
       "  <tbody>\n",
       "    <tr>\n",
       "      <th>0</th>\n",
       "      <td>구재홍</td>\n",
       "      <td>rnwoghd55@python.com</td>\n",
       "      <td>PO</td>\n",
       "      <td>내용A</td>\n",
       "      <td>10k</td>\n",
       "    </tr>\n",
       "    <tr>\n",
       "      <th>4</th>\n",
       "      <td>구재홍</td>\n",
       "      <td>rnwoghd55@python.com</td>\n",
       "      <td>PO</td>\n",
       "      <td>내용E</td>\n",
       "      <td>3k</td>\n",
       "    </tr>\n",
       "  </tbody>\n",
       "</table>\n",
       "</div>"
      ],
      "text/plain": [
       "    이름                   이메일  부서   내용   실적\n",
       "0  구재홍  rnwoghd55@python.com  PO  내용A  10k\n",
       "4  구재홍  rnwoghd55@python.com  PO  내용E   3k"
      ]
     },
     "execution_count": 13,
     "metadata": {},
     "output_type": "execute_result"
    }
   ],
   "source": [
    "user_table('구재홍')"
   ]
  },
  {
   "cell_type": "code",
   "execution_count": 8,
   "metadata": {},
   "outputs": [],
   "source": [
    "user_table('구재홍').to_excel('구재홍.xlsx')"
   ]
  },
  {
   "cell_type": "code",
   "execution_count": 12,
   "metadata": {},
   "outputs": [],
   "source": [
    "# outlook에서 새 전자 메일 생성\n",
    "message = outlook.CreateItem(0)\n",
    "message.To = \"rnwoghd55@gmail.com; rnwoghd55@naver.com\"\n",
    "message.Subject = \"개인에게 보내는 테스트 이메일\"\n",
    "message.HTMLBody = body # 지정한 body 본문에 적용\n",
    "user_table('구재홍').to_excel('구재홍.xlsx') # 엑셀로 저장\n",
    "attachment = r'C:\\Users\\Jaehong.Koo\\Jupyter\\구재홍.xlsx'\n",
    "message.Attachments.Add(attachment)\n",
    "message.Save() # 임시보관함 저장\n",
    "message.Display() # 작성한 이메일 나타내기"
   ]
  },
  {
   "cell_type": "code",
   "execution_count": 14,
   "metadata": {},
   "outputs": [
    {
     "data": {
      "text/html": [
       "<div>\n",
       "<style scoped>\n",
       "    .dataframe tbody tr th:only-of-type {\n",
       "        vertical-align: middle;\n",
       "    }\n",
       "\n",
       "    .dataframe tbody tr th {\n",
       "        vertical-align: top;\n",
       "    }\n",
       "\n",
       "    .dataframe thead th {\n",
       "        text-align: right;\n",
       "    }\n",
       "</style>\n",
       "<table border=\"1\" class=\"dataframe\">\n",
       "  <thead>\n",
       "    <tr style=\"text-align: right;\">\n",
       "      <th></th>\n",
       "      <th>이름</th>\n",
       "      <th>이메일</th>\n",
       "      <th>부서</th>\n",
       "      <th>내용</th>\n",
       "      <th>실적</th>\n",
       "    </tr>\n",
       "  </thead>\n",
       "  <tbody>\n",
       "    <tr>\n",
       "      <th>0</th>\n",
       "      <td>구재홍</td>\n",
       "      <td>rnwoghd55@python.com</td>\n",
       "      <td>PO</td>\n",
       "      <td>내용A</td>\n",
       "      <td>10k</td>\n",
       "    </tr>\n",
       "    <tr>\n",
       "      <th>1</th>\n",
       "      <td>철수</td>\n",
       "      <td>chulsu@python.com</td>\n",
       "      <td>Sales</td>\n",
       "      <td>내용B</td>\n",
       "      <td>2k</td>\n",
       "    </tr>\n",
       "    <tr>\n",
       "      <th>2</th>\n",
       "      <td>영희</td>\n",
       "      <td>younghee@python.com</td>\n",
       "      <td>Marketing</td>\n",
       "      <td>내용C</td>\n",
       "      <td>1k</td>\n",
       "    </tr>\n",
       "    <tr>\n",
       "      <th>3</th>\n",
       "      <td>파이썬</td>\n",
       "      <td>python@python.com</td>\n",
       "      <td>Develop</td>\n",
       "      <td>내용D</td>\n",
       "      <td>15k</td>\n",
       "    </tr>\n",
       "    <tr>\n",
       "      <th>4</th>\n",
       "      <td>구재홍</td>\n",
       "      <td>rnwoghd55@python.com</td>\n",
       "      <td>PO</td>\n",
       "      <td>내용E</td>\n",
       "      <td>3k</td>\n",
       "    </tr>\n",
       "    <tr>\n",
       "      <th>5</th>\n",
       "      <td>영희</td>\n",
       "      <td>younghee@python.com</td>\n",
       "      <td>Marketing</td>\n",
       "      <td>내용F</td>\n",
       "      <td>6k</td>\n",
       "    </tr>\n",
       "  </tbody>\n",
       "</table>\n",
       "</div>"
      ],
      "text/plain": [
       "    이름                   이메일         부서   내용   실적\n",
       "0  구재홍  rnwoghd55@python.com         PO  내용A  10k\n",
       "1   철수     chulsu@python.com      Sales  내용B   2k\n",
       "2   영희   younghee@python.com  Marketing  내용C   1k\n",
       "3  파이썬     python@python.com    Develop  내용D  15k\n",
       "4  구재홍  rnwoghd55@python.com         PO  내용E   3k\n",
       "5   영희   younghee@python.com  Marketing  내용F   6k"
      ]
     },
     "execution_count": 14,
     "metadata": {},
     "output_type": "execute_result"
    }
   ],
   "source": [
    "test_df"
   ]
  },
  {
   "cell_type": "code",
   "execution_count": 24,
   "metadata": {},
   "outputs": [
    {
     "data": {
      "text/plain": [
       "0    rnwoghd55@python.com\n",
       "1       chulsu@python.com\n",
       "2     younghee@python.com\n",
       "3       python@python.com\n",
       "Name: 이메일, dtype: object"
      ]
     },
     "execution_count": 24,
     "metadata": {},
     "output_type": "execute_result"
    }
   ],
   "source": [
    "test_df['이메일'].drop_duplicates()"
   ]
  },
  {
   "cell_type": "code",
   "execution_count": 9,
   "metadata": {},
   "outputs": [],
   "source": [
    "email_to_list = list(test_df['이메일'].drop_duplicates())"
   ]
  },
  {
   "cell_type": "code",
   "execution_count": 10,
   "metadata": {},
   "outputs": [
    {
     "data": {
      "text/plain": [
       "'rnwoghd55@python.com'"
      ]
     },
     "execution_count": 10,
     "metadata": {},
     "output_type": "execute_result"
    }
   ],
   "source": [
    "email_to_list[0]"
   ]
  },
  {
   "cell_type": "code",
   "execution_count": 27,
   "metadata": {},
   "outputs": [
    {
     "data": {
      "text/plain": [
       "'chulsu@python.com'"
      ]
     },
     "execution_count": 27,
     "metadata": {},
     "output_type": "execute_result"
    }
   ],
   "source": [
    "email_to_list[1]"
   ]
  },
  {
   "cell_type": "code",
   "execution_count": 28,
   "metadata": {},
   "outputs": [],
   "source": [
    "for num in range(0, len(email_to_list)):\n",
    "    # outlook에서 새 전자 메일 생성\n",
    "    message = outlook.CreateItem(0)\n",
    "    message.To = email_to_list[num] # 이메일 리스트 중 n번째 값\n",
    "    message.Subject = \"개인에게 보내는 테스트 이메일\"\n",
    "    message.HTMLBody = body # 지정한 body 본문에 적용\n",
    "    message.Display() # 작성한 이메일 나타내기"
   ]
  },
  {
   "cell_type": "code",
   "execution_count": 60,
   "metadata": {},
   "outputs": [
    {
     "data": {
      "text/html": [
       "<div>\n",
       "<style scoped>\n",
       "    .dataframe tbody tr th:only-of-type {\n",
       "        vertical-align: middle;\n",
       "    }\n",
       "\n",
       "    .dataframe tbody tr th {\n",
       "        vertical-align: top;\n",
       "    }\n",
       "\n",
       "    .dataframe thead th {\n",
       "        text-align: right;\n",
       "    }\n",
       "</style>\n",
       "<table border=\"1\" class=\"dataframe\">\n",
       "  <thead>\n",
       "    <tr style=\"text-align: right;\">\n",
       "      <th></th>\n",
       "      <th>이름</th>\n",
       "      <th>이메일</th>\n",
       "      <th>부서</th>\n",
       "      <th>내용</th>\n",
       "      <th>실적</th>\n",
       "    </tr>\n",
       "  </thead>\n",
       "  <tbody>\n",
       "    <tr>\n",
       "      <th>1</th>\n",
       "      <td>철수</td>\n",
       "      <td>chulsu@python.com</td>\n",
       "      <td>Sales</td>\n",
       "      <td>내용B</td>\n",
       "      <td>2k</td>\n",
       "    </tr>\n",
       "  </tbody>\n",
       "</table>\n",
       "</div>"
      ],
      "text/plain": [
       "   이름                이메일     부서   내용  실적\n",
       "1  철수  chulsu@python.com  Sales  내용B  2k"
      ]
     },
     "execution_count": 60,
     "metadata": {},
     "output_type": "execute_result"
    }
   ],
   "source": [
    "test_df[test_df['이메일'] == email_to_list[1]]"
   ]
  },
  {
   "cell_type": "code",
   "execution_count": 14,
   "metadata": {},
   "outputs": [],
   "source": [
    "receiver_df = test_df[test_df['이메일'] == email_to_list[0]]"
   ]
  },
  {
   "cell_type": "code",
   "execution_count": 15,
   "metadata": {},
   "outputs": [
    {
     "data": {
      "text/plain": [
       "0    구재홍\n",
       "Name: 이름, dtype: object"
      ]
     },
     "execution_count": 15,
     "metadata": {},
     "output_type": "execute_result"
    }
   ],
   "source": [
    "receiver_df['이름'].drop_duplicates()"
   ]
  },
  {
   "cell_type": "code",
   "execution_count": 17,
   "metadata": {},
   "outputs": [
    {
     "data": {
      "text/plain": [
       "'구재홍'"
      ]
     },
     "execution_count": 17,
     "metadata": {},
     "output_type": "execute_result"
    }
   ],
   "source": [
    "receiver_df['이름'].iloc[0]"
   ]
  },
  {
   "cell_type": "code",
   "execution_count": 5,
   "metadata": {},
   "outputs": [],
   "source": [
    "def template(to_whom):\n",
    "    case = \"\"\"\n",
    "    <html xmlns:v=\"urn:schemas-microsoft-com:vml\" xmlns:o=\"urn:schemas-microsoft-com:office:office\" xmlns:w=\"urn:schemas-microsoft-com:office:word\" xmlns:m=\"http://schemas.microsoft.com/office/2004/12/omml\" xmlns=\"http://www.w3.org/TR/REC-html40\"><head><meta http-equiv=Content-Type content=\"text/html; charset=ks_c_5601-1987\"><meta name=Generator content=\"Microsoft Word 15 (filtered medium)\"><style><!--\n",
    "/* Font Definitions */\n",
    "@font-face\n",
    "\t{font-family:굴림;\n",
    "\tpanose-1:2 11 6 0 0 1 1 1 1 1;}\n",
    "@font-face\n",
    "\t{font-family:\"Cambria Math\";\n",
    "\tpanose-1:2 4 5 3 5 4 6 3 2 4;}\n",
    "@font-face\n",
    "\t{font-family:\"맑은 고딕\";\n",
    "\tpanose-1:2 11 5 3 2 0 0 2 0 4;}\n",
    "@font-face\n",
    "\t{font-family:\"\\@맑은 고딕\";}\n",
    "@font-face\n",
    "\t{font-family:\"\\@굴림\";\n",
    "\tpanose-1:2 11 6 0 0 1 1 1 1 1;}\n",
    "/* Style Definitions */\n",
    "p.MsoNormal, li.MsoNormal, div.MsoNormal\n",
    "\t{margin:0cm;\n",
    "\tmargin-bottom:.0001pt;\n",
    "\ttext-align:justify;\n",
    "\ttext-justify:inter-ideograph;\n",
    "\ttext-autospace:none;\n",
    "\tword-break:break-hangul;\n",
    "\tfont-size:10.0pt;\n",
    "\tfont-family:\"맑은 고딕\";}\n",
    "a:link, span.MsoHyperlink\n",
    "\t{mso-style-priority:99;\n",
    "\tcolor:#0563C1;\n",
    "\ttext-decoration:underline;}\n",
    "a:visited, span.MsoHyperlinkFollowed\n",
    "\t{mso-style-priority:99;\n",
    "\tcolor:#954F72;\n",
    "\ttext-decoration:underline;}\n",
    "p.msonormal0, li.msonormal0, div.msonormal0\n",
    "\t{mso-style-name:msonormal;\n",
    "\tmso-margin-top-alt:auto;\n",
    "\tmargin-right:0cm;\n",
    "\tmso-margin-bottom-alt:auto;\n",
    "\tmargin-left:0cm;\n",
    "\tfont-size:12.0pt;\n",
    "\tfont-family:굴림;}\n",
    "span.EmailStyle18\n",
    "\t{mso-style-type:personal-compose;\n",
    "\tfont-family:\"맑은 고딕\";\n",
    "\tcolor:windowtext;}\n",
    ".MsoChpDefault\n",
    "\t{mso-style-type:export-only;}\n",
    "@page WordSection1\n",
    "\t{size:612.0pt 792.0pt;\n",
    "\tmargin:3.0cm 72.0pt 72.0pt 72.0pt;}\n",
    "div.WordSection1\n",
    "\t{page:WordSection1;}\n",
    "--></style><!--[if gte mso 9]><xml>\n",
    "<o:shapedefaults v:ext=\"edit\" spidmax=\"1026\" />\n",
    "</xml><![endif]--><!--[if gte mso 9]><xml>\n",
    "<o:shapelayout v:ext=\"edit\">\n",
    "<o:idmap v:ext=\"edit\" data=\"1\" />\n",
    "</o:shapelayout></xml><![endif]--></head><body lang=KO link=\"#0563C1\" vlink=\"#954F72\"><div class=WordSection1><p class=MsoNormal>안녕하세요<span lang=EN-US> \"\"\"+to_whom+\"\"\"</span>님<span lang=EN-US>, <o:p></o:p></span></p><p class=MsoNormal><span lang=EN-US><o:p>&nbsp;</o:p></span></p><p class=MsoNormal>구재홍입니다<span lang=EN-US>.<o:p></o:p></span></p><p class=MsoNormal><span lang=EN-US><o:p>&nbsp;</o:p></span></p><p class=MsoNormal>본 이메일의 목적은 테스트입니다<span lang=EN-US>.<o:p></o:p></span></p><p class=MsoNormal>개인 또는 여러 사람에게 메일을 보낼 수 있습니다<span lang=EN-US>.<o:p></o:p></span></p><p class=MsoNormal><span lang=EN-US><o:p>&nbsp;</o:p></span></p><p class=MsoNormal><b><u>테스트가 성공적인지 확인하고자 하는 이메일입니다<span lang=EN-US>.<o:p></o:p></span></u></b></p><p class=MsoNormal><b><u>첨부되어 있는 이메일 확인 후<span lang=EN-US>, </span>회신 부탁 드립니다<span lang=EN-US>.<o:p></o:p></span></u></b></p><p class=MsoNormal><span lang=EN-US><o:p>&nbsp;</o:p></span></p><p class=MsoNormal>혹시 더 궁금하신 점 있으시면 언제든지 연락 주시기 바랍니다<span lang=EN-US>.<o:p></o:p></span></p><p class=MsoNormal><span lang=EN-US><o:p>&nbsp;</o:p></span></p><p class=MsoNormal>감사합니다<span lang=EN-US>.<o:p></o:p></span></p><p class=MsoNormal><span lang=EN-US><o:p>&nbsp;</o:p></span></p><p class=MsoNormal>구재홍 드림<span lang=EN-US><o:p></o:p></span></p></div></body></html>\n",
    "    \"\"\"\n",
    "    \n",
    "    return case"
   ]
  },
  {
   "cell_type": "code",
   "execution_count": 8,
   "metadata": {},
   "outputs": [],
   "source": [
    "for num in range(0, len(email_to_list)):\n",
    "    # 데이터 프레임 정리\n",
    "    to_email = email_to_list[num] # 이메일 리스트 중 n번째 값\n",
    "    to_df = test_df[test_df['이메일'] == to_email] # email 필터 값에 따른 데이터 프레임\n",
    "    to_name = to_df['이름'].drop_duplicates().iloc[0] # to_df에서 이름 값 조회(중복값 제외) 0번째 값\n",
    "    \n",
    "    # 첨부 파일 생성\n",
    "    to_df.to_excel(str(to_name)+\".xlsx\") # 이름.xlsx 형식으로 엑셀 파일 저장\n",
    "    attachment = r'C:\\Users\\Jaehong.Koo\\Jupyter\\{}.xlsx'.format(to_name) # format에 이름 넣어 경로 지정\n",
    "    \n",
    "    # outlook에서 새 전자 메일 생성\n",
    "    message = outlook.CreateItem(0)\n",
    "    message.To = to_email\n",
    "    message.Subject = \"[용역] 실적 관련 이메일\"\n",
    "    message.HTMLBody = template(to_name) # template 함수에 이름 입력\n",
    "    message.Attachments.Add(attachment) # 생성한 이메일에 지정한 경로의 파일 첨부\n",
    "    time.sleep(1.5) # 1.5초 쉬어주기\n",
    "    message.Display() # 작성한 이메일 나타내기"
   ]
  },
  {
   "cell_type": "code",
   "execution_count": null,
   "metadata": {},
   "outputs": [],
   "source": [
    "# 아웃룩 어플리케이션 조작 → 'outlook' 변수 지정\n",
    "outlook = client.Dispatch(\"Outlook.Application\")\n",
    "\n",
    "# 예제 엑셀, 데이터 프레임화\n",
    "test_df = pd.read_excel('아웃룩_엑셀테스트.xlsx')\n",
    "\n",
    "# 이메일 리스트 정리\n",
    "email_to_list = list(test_df['이메일'].drop_duplicates())\n",
    "\n",
    "# 본문 템플릿 함수화\n",
    "def template(to_whom):\n",
    "    case = \"\"\"\n",
    "    <html xmlns:v=\"urn:schemas-microsoft-com:vml\" xmlns:o=\"urn:schemas-microsoft-com:office:office\" xmlns:w=\"urn:schemas-microsoft-com:office:word\" xmlns:m=\"http://schemas.microsoft.com/office/2004/12/omml\" xmlns=\"http://www.w3.org/TR/REC-html40\"><head><meta http-equiv=Content-Type content=\"text/html; charset=ks_c_5601-1987\"><meta name=Generator content=\"Microsoft Word 15 (filtered medium)\"><style><!--\n",
    "/* Font Definitions */\n",
    "@font-face\n",
    "\t{font-family:굴림;\n",
    "\tpanose-1:2 11 6 0 0 1 1 1 1 1;}\n",
    "@font-face\n",
    "\t{font-family:\"Cambria Math\";\n",
    "\tpanose-1:2 4 5 3 5 4 6 3 2 4;}\n",
    "@font-face\n",
    "\t{font-family:\"맑은 고딕\";\n",
    "\tpanose-1:2 11 5 3 2 0 0 2 0 4;}\n",
    "@font-face\n",
    "\t{font-family:\"\\@맑은 고딕\";}\n",
    "@font-face\n",
    "\t{font-family:\"\\@굴림\";\n",
    "\tpanose-1:2 11 6 0 0 1 1 1 1 1;}\n",
    "/* Style Definitions */\n",
    "p.MsoNormal, li.MsoNormal, div.MsoNormal\n",
    "\t{margin:0cm;\n",
    "\tmargin-bottom:.0001pt;\n",
    "\ttext-align:justify;\n",
    "\ttext-justify:inter-ideograph;\n",
    "\ttext-autospace:none;\n",
    "\tword-break:break-hangul;\n",
    "\tfont-size:10.0pt;\n",
    "\tfont-family:\"맑은 고딕\";}\n",
    "a:link, span.MsoHyperlink\n",
    "\t{mso-style-priority:99;\n",
    "\tcolor:#0563C1;\n",
    "\ttext-decoration:underline;}\n",
    "a:visited, span.MsoHyperlinkFollowed\n",
    "\t{mso-style-priority:99;\n",
    "\tcolor:#954F72;\n",
    "\ttext-decoration:underline;}\n",
    "p.msonormal0, li.msonormal0, div.msonormal0\n",
    "\t{mso-style-name:msonormal;\n",
    "\tmso-margin-top-alt:auto;\n",
    "\tmargin-right:0cm;\n",
    "\tmso-margin-bottom-alt:auto;\n",
    "\tmargin-left:0cm;\n",
    "\tfont-size:12.0pt;\n",
    "\tfont-family:굴림;}\n",
    "span.EmailStyle18\n",
    "\t{mso-style-type:personal-compose;\n",
    "\tfont-family:\"맑은 고딕\";\n",
    "\tcolor:windowtext;}\n",
    ".MsoChpDefault\n",
    "\t{mso-style-type:export-only;}\n",
    "@page WordSection1\n",
    "\t{size:612.0pt 792.0pt;\n",
    "\tmargin:3.0cm 72.0pt 72.0pt 72.0pt;}\n",
    "div.WordSection1\n",
    "\t{page:WordSection1;}\n",
    "--></style><!--[if gte mso 9]><xml>\n",
    "<o:shapedefaults v:ext=\"edit\" spidmax=\"1026\" />\n",
    "</xml><![endif]--><!--[if gte mso 9]><xml>\n",
    "<o:shapelayout v:ext=\"edit\">\n",
    "<o:idmap v:ext=\"edit\" data=\"1\" />\n",
    "</o:shapelayout></xml><![endif]--></head><body lang=KO link=\"#0563C1\" vlink=\"#954F72\"><div class=WordSection1><p class=MsoNormal>안녕하세요<span lang=EN-US> \"\"\"+to_whom+\"\"\"</span>님<span lang=EN-US>, <o:p></o:p></span></p><p class=MsoNormal><span lang=EN-US><o:p>&nbsp;</o:p></span></p><p class=MsoNormal>구재홍입니다<span lang=EN-US>.<o:p></o:p></span></p><p class=MsoNormal><span lang=EN-US><o:p>&nbsp;</o:p></span></p><p class=MsoNormal>본 이메일의 목적은 테스트입니다<span lang=EN-US>.<o:p></o:p></span></p><p class=MsoNormal>개인 또는 여러 사람에게 메일을 보낼 수 있습니다<span lang=EN-US>.<o:p></o:p></span></p><p class=MsoNormal><span lang=EN-US><o:p>&nbsp;</o:p></span></p><p class=MsoNormal><b><u>테스트가 성공적인지 확인하고자 하는 이메일입니다<span lang=EN-US>.<o:p></o:p></span></u></b></p><p class=MsoNormal><b><u>첨부되어 있는 이메일 확인 후<span lang=EN-US>, </span>회신 부탁 드립니다<span lang=EN-US>.<o:p></o:p></span></u></b></p><p class=MsoNormal><span lang=EN-US><o:p>&nbsp;</o:p></span></p><p class=MsoNormal>혹시 더 궁금하신 점 있으시면 언제든지 연락 주시기 바랍니다<span lang=EN-US>.<o:p></o:p></span></p><p class=MsoNormal><span lang=EN-US><o:p>&nbsp;</o:p></span></p><p class=MsoNormal>감사합니다<span lang=EN-US>.<o:p></o:p></span></p><p class=MsoNormal><span lang=EN-US><o:p>&nbsp;</o:p></span></p><p class=MsoNormal>구재홍 드림<span lang=EN-US><o:p></o:p></span></p></div></body></html>\n",
    "    \"\"\"\n",
    "    \n",
    "    return case\n",
    "\n",
    "# 반복문 실행하여 여러 사람에게 반복 발송\n",
    "for num in range(0, len(email_to_list)):\n",
    "    # 데이터 프레임 정리\n",
    "    to_email = email_to_list[num] # 이메일 리스트 중 n번째 값\n",
    "    to_df = test_df[test_df['이메일'] == to_email] # email 필터 값에 따른 데이터 프레임\n",
    "    to_name = to_df['이름'].drop_duplicates().iloc[0] # to_df에서 이름 값 조회(중복값 제외) 0번째 값\n",
    "    \n",
    "    # 첨부 파일 생성\n",
    "    to_df.to_excel(str(to_name)+\".xlsx\") # 이름.xlsx 형식으로 엑셀 파일 저장\n",
    "    attachment = r'C:\\Users\\Jaehong.Koo\\Jupyter\\{}.xlsx'.format(to_name) # format에 이름 넣어 경로 지정\n",
    "    \n",
    "    # outlook에서 새 전자 메일 생성\n",
    "    message = outlook.CreateItem(0)\n",
    "    message.To = to_email\n",
    "    message.Subject = \"[용역] 실적 관련 이메일\"\n",
    "    message.HTMLBody = template(to_name) # template 함수에 이름 입력\n",
    "    message.Attachments.Add(attachment) # 생성한 이메일에 지정한 경로의 파일 첨부\n",
    "    time.sleep(1.5) # 1.5초 쉬어주기\n",
    "    message.Display() # 작성한 이메일 나타내기\n",
    "    # message.Send() → 이메일 발송"
   ]
  }
 ],
 "metadata": {
  "celltoolbar": "Raw Cell Format",
  "kernelspec": {
   "display_name": "Python 3",
   "language": "python",
   "name": "python3"
  },
  "language_info": {
   "codemirror_mode": {
    "name": "ipython",
    "version": 3
   },
   "file_extension": ".py",
   "mimetype": "text/x-python",
   "name": "python",
   "nbconvert_exporter": "python",
   "pygments_lexer": "ipython3",
   "version": "3.8.3"
  }
 },
 "nbformat": 4,
 "nbformat_minor": 4
}
